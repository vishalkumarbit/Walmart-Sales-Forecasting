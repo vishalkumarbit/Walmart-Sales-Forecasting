{
 "cells": [
  {
   "cell_type": "code",
   "execution_count": 1,
   "metadata": {},
   "outputs": [],
   "source": [
    "# importing libraries\n",
    "%matplotlib inline\n",
    "import warnings\n",
    "warnings.filterwarnings(\"ignore\")\n",
    "\n",
    "import numpy as np\n",
    "import pandas as pd\n",
    "import matplotlib.pyplot as plt\n",
    "import seaborn as sns\n",
    "import joblib\n",
    "\n",
    "import datetime"
   ]
  },
  {
   "cell_type": "markdown",
   "metadata": {},
   "source": [
    "# Function-1: Prediction"
   ]
  },
  {
   "cell_type": "code",
   "execution_count": 2,
   "metadata": {},
   "outputs": [],
   "source": [
    "def final_fun_1(data):\n",
    "    data = data[['Dept', 'Size', 'Store', 'Type', 'IsHoliday', 'Date']]\n",
    "    data['day'] = pd.DatetimeIndex(data['Date']).day\n",
    "    data['Week'] = pd.DatetimeIndex(data['Date']).week\n",
    "    data['year'] = pd.DatetimeIndex(data['Date']).year\n",
    "    \n",
    "    def isholiday_le(x):\n",
    "        IsHoliday = []\n",
    "        for i in x['IsHoliday']:\n",
    "            if i == False:\n",
    "                IsHoliday.append(0)\n",
    "            else:\n",
    "                IsHoliday.append(1)\n",
    "        x['IsHoliday'] = IsHoliday\n",
    "        return x\n",
    "    data = isholiday_le(data)\n",
    "        \n",
    "    def type_le(x):\n",
    "        store_type = []\n",
    "        for i in x['Type']:\n",
    "            if i == 'A':\n",
    "                store_type.append(1)\n",
    "            elif i == 'B':\n",
    "                store_type.append(2)\n",
    "            else:\n",
    "                store_type.append(3)\n",
    "        x['Type'] = store_type\n",
    "        return x\n",
    "    data = type_le(data)\n",
    "    \n",
    "    final_model = joblib.load('final_model.pkl')\n",
    "    \n",
    "    data.drop('Date', axis=1, inplace=True)\n",
    "    \n",
    "    predicted_weekly_sale = final_model.predict(data)\n",
    "    \n",
    "    return predicted_weekly_sale"
   ]
  },
  {
   "cell_type": "code",
   "execution_count": 3,
   "metadata": {},
   "outputs": [],
   "source": [
    "def final_fun_2(data,actual_weekly_sale):\n",
    "    data = data[['Dept', 'Size', 'Store', 'Type', 'IsHoliday', 'Date']]\n",
    "    data['day'] = pd.DatetimeIndex(data['Date']).day\n",
    "    data['Week'] = pd.DatetimeIndex(data['Date']).week\n",
    "    data['year'] = pd.DatetimeIndex(data['Date']).year\n",
    "    \n",
    "    def isholiday_le(x):\n",
    "        IsHoliday = []\n",
    "        for i in x['IsHoliday']:\n",
    "            if i == False:\n",
    "                IsHoliday.append(0)\n",
    "            else:\n",
    "                IsHoliday.append(1)\n",
    "        x['IsHoliday'] = IsHoliday\n",
    "        return x\n",
    "    data = isholiday_le(data)\n",
    "        \n",
    "    def type_le(x):\n",
    "        store_type = []\n",
    "        for i in x['Type']:\n",
    "            if i == 'A':\n",
    "                store_type.append(1)\n",
    "            elif i == 'B':\n",
    "                store_type.append(2)\n",
    "            else:\n",
    "                store_type.append(3)\n",
    "        x['Type'] = store_type\n",
    "        return x\n",
    "    data = type_le(data)\n",
    "    \n",
    "    def WMAE(dataset, real, predicted):\n",
    "  \n",
    "        weights = []\n",
    "        for i in dataset['IsHoliday']:\n",
    "            if i == 1:\n",
    "                weights.append(5)\n",
    "            else:\n",
    "                weights.append(1)\n",
    "        weights = np.array(weights)\n",
    "        wmae = np.sum(weights*abs(real-predicted))/(np.sum(weights))\n",
    "        return wmae\n",
    "    \n",
    "    final_model = joblib.load('final_model.pkl')\n",
    "    \n",
    "    data.drop('Date', axis=1, inplace=True)\n",
    "    \n",
    "    predicted_weekly_sale = final_model.predict(data)\n",
    "    \n",
    "    wmae_score = WMAE(data, actual_weekly_sale, predicted_weekly_sale)\n",
    "    \n",
    "    return wmae_score"
   ]
  },
  {
   "cell_type": "code",
   "execution_count": 4,
   "metadata": {},
   "outputs": [
    {
     "data": {
      "text/html": [
       "<div>\n",
       "<style scoped>\n",
       "    .dataframe tbody tr th:only-of-type {\n",
       "        vertical-align: middle;\n",
       "    }\n",
       "\n",
       "    .dataframe tbody tr th {\n",
       "        vertical-align: top;\n",
       "    }\n",
       "\n",
       "    .dataframe thead th {\n",
       "        text-align: right;\n",
       "    }\n",
       "</style>\n",
       "<table border=\"1\" class=\"dataframe\">\n",
       "  <thead>\n",
       "    <tr style=\"text-align: right;\">\n",
       "      <th></th>\n",
       "      <th>Store</th>\n",
       "      <th>Dept</th>\n",
       "      <th>Date</th>\n",
       "      <th>Weekly_Sales</th>\n",
       "      <th>IsHoliday</th>\n",
       "      <th>Temperature</th>\n",
       "      <th>Fuel_Price</th>\n",
       "      <th>MarkDown1</th>\n",
       "      <th>MarkDown2</th>\n",
       "      <th>MarkDown3</th>\n",
       "      <th>MarkDown4</th>\n",
       "      <th>MarkDown5</th>\n",
       "      <th>CPI</th>\n",
       "      <th>Unemployment</th>\n",
       "      <th>Type</th>\n",
       "      <th>Size</th>\n",
       "    </tr>\n",
       "  </thead>\n",
       "  <tbody>\n",
       "    <tr>\n",
       "      <th>300805</th>\n",
       "      <td>31</td>\n",
       "      <td>2</td>\n",
       "      <td>2012-01-06</td>\n",
       "      <td>60604.24</td>\n",
       "      <td>False</td>\n",
       "      <td>48.1</td>\n",
       "      <td>3.157</td>\n",
       "      <td>6105.78</td>\n",
       "      <td>25953.41</td>\n",
       "      <td>91.69</td>\n",
       "      <td>1254.6</td>\n",
       "      <td>6256.02</td>\n",
       "      <td>219.355063</td>\n",
       "      <td>7.057</td>\n",
       "      <td>A</td>\n",
       "      <td>203750</td>\n",
       "    </tr>\n",
       "  </tbody>\n",
       "</table>\n",
       "</div>"
      ],
      "text/plain": [
       "        Store  Dept        Date  Weekly_Sales  IsHoliday  Temperature  \\\n",
       "300805     31     2  2012-01-06      60604.24      False         48.1   \n",
       "\n",
       "        Fuel_Price  MarkDown1  MarkDown2  MarkDown3  MarkDown4  MarkDown5  \\\n",
       "300805       3.157    6105.78   25953.41      91.69     1254.6    6256.02   \n",
       "\n",
       "               CPI  Unemployment Type    Size  \n",
       "300805  219.355063         7.057    A  203750  "
      ]
     },
     "execution_count": 4,
     "metadata": {},
     "output_type": "execute_result"
    }
   ],
   "source": [
    "df = pd.read_csv('Final_data.csv')\n",
    "sample_data = df.sample(1)\n",
    "sample_data.head()"
   ]
  },
  {
   "cell_type": "code",
   "execution_count": 5,
   "metadata": {},
   "outputs": [
    {
     "name": "stdout",
     "output_type": "stream",
     "text": [
      "Actual Weekly Sale of sampled data is:  60604.24\n",
      "Predicted Weekly Sale of sampled data is:  58973.30691428563\n",
      "WMAE score of sampled data is:  1630.933085714365\n"
     ]
    }
   ],
   "source": [
    "predicted_weekly_sale = final_fun_1(sample_data)\n",
    "wmae_score = final_fun_2(sample_data, sample_data['Weekly_Sales'])\n",
    "print('Actual Weekly Sale of sampled data is: ', sample_data['Weekly_Sales'].values[0])\n",
    "print('Predicted Weekly Sale of sampled data is: ', predicted_weekly_sale[0])\n",
    "print('WMAE score of sampled data is: ', wmae_score)"
   ]
  },
  {
   "cell_type": "code",
   "execution_count": null,
   "metadata": {},
   "outputs": [],
   "source": []
  }
 ],
 "metadata": {
  "kernelspec": {
   "display_name": "Python 3",
   "language": "python",
   "name": "python3"
  },
  "language_info": {
   "codemirror_mode": {
    "name": "ipython",
    "version": 3
   },
   "file_extension": ".py",
   "mimetype": "text/x-python",
   "name": "python",
   "nbconvert_exporter": "python",
   "pygments_lexer": "ipython3",
   "version": "3.8.5"
  }
 },
 "nbformat": 4,
 "nbformat_minor": 4
}
