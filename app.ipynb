{
 "cells": [
  {
   "cell_type": "code",
   "execution_count": 2,
   "metadata": {
    "scrolled": true
   },
   "outputs": [
    {
     "name": "stdout",
     "output_type": "stream",
     "text": [
      " * Serving Flask app \"__main__\" (lazy loading)\n",
      " * Environment: production\n",
      "   WARNING: This is a development server. Do not use it in a production deployment.\n",
      "   Use a production WSGI server instead.\n",
      " * Debug mode: off\n"
     ]
    },
    {
     "name": "stderr",
     "output_type": "stream",
     "text": [
      " * Running on http://0.0.0.0:8080/ (Press CTRL+C to quit)\n"
     ]
    }
   ],
   "source": [
    "# https://www.geeksforgeeks.org/deploy-machine-learning-model-using-flask/#:~:text=%23%20prediction%20function,prediction%20%3D%20prediction)\n",
    "# importing libraries\n",
    "\n",
    "import numpy as np\n",
    "import pandas as pd\n",
    "import matplotlib.pyplot as plt\n",
    "import seaborn as sns\n",
    "import joblib\n",
    "\n",
    "import datetime\n",
    "from flask import Flask, jsonify, request\n",
    "from flask import Flask, render_template\n",
    "\n",
    "\n",
    "import flask\n",
    "app = Flask(__name__)\n",
    "\n",
    "\n",
    "def dwy(x):\n",
    "    x['day'] = pd.DatetimeIndex(x['Date']).day\n",
    "    x['Week'] = pd.DatetimeIndex(x['Date']).week\n",
    "    x['year'] = pd.DatetimeIndex(x['Date']).year\n",
    "    \n",
    "    return x\n",
    "\n",
    "def isholiday_le(x):\n",
    "    IsHoliday = []\n",
    "    for i in x['IsHoliday']:\n",
    "        if i == False:\n",
    "            IsHoliday.append(0)\n",
    "        else:\n",
    "            IsHoliday.append(1)\n",
    "    x['IsHoliday'] = IsHoliday\n",
    "    return x\n",
    "\n",
    "def type_le(x):\n",
    "    store_type = []\n",
    "    for i in x['Type']:\n",
    "        if i == 'A':\n",
    "            store_type.append(1)\n",
    "        elif i == 'B':\n",
    "            store_type.append(2)\n",
    "        else:\n",
    "            store_type.append(3)\n",
    "    x['Type'] = store_type\n",
    "    return x\n",
    "\n",
    "final_model = joblib.load('final_model.pkl')\n",
    "\n",
    "\n",
    "@app.route('/')\n",
    "def index():\n",
    "    return render_template('index.html')\n",
    "\n",
    "\n",
    "@app.route('/predict', methods=['POST'])\n",
    "def predict():    \n",
    "    store_data = pd.read_csv('stores.csv')\n",
    "    \n",
    "    df = pd.DataFrame()\n",
    "    df['Store'] = list([int(request.form['Store'])])\n",
    "    df['Dept'] = list([int(request.form['Dept'])])\n",
    "    df['Date'] = list([request.form['Date']])\n",
    "    df['IsHoliday'] = list([request.form['IsHoliday']]) \n",
    "    \n",
    "    \n",
    "    data = df.merge(store_data, on=['Store'], how='inner')\n",
    "    \n",
    "    \n",
    "    data = dwy(data)\n",
    "    data = isholiday_le(data)\n",
    "    data = type_le(data)\n",
    "    \n",
    "    data = data[['Dept', 'Size', 'Store', 'Type', 'Week', 'day', 'IsHoliday', 'year']]\n",
    "    \n",
    "    \n",
    "    predicted_weekly_sale = final_model.predict(data)\n",
    "    \n",
    "    final_result = np.round(predicted_weekly_sale, 2)\n",
    "\n",
    "    return render_template(\"index.html\", prediction_text = 'Weekly Sales in week {} will be ${}'.format(list(data['Week'])[0], final_result[0]))\n",
    "\n",
    "\n",
    "if __name__ == '__main__':\n",
    "    app.run(debug=True)\n"
   ]
  },
  {
   "cell_type": "code",
   "execution_count": null,
   "metadata": {},
   "outputs": [],
   "source": []
  }
 ],
 "metadata": {
  "kernelspec": {
   "display_name": "Python 3",
   "language": "python",
   "name": "python3"
  },
  "language_info": {
   "codemirror_mode": {
    "name": "ipython",
    "version": 3
   },
   "file_extension": ".py",
   "mimetype": "text/x-python",
   "name": "python",
   "nbconvert_exporter": "python",
   "pygments_lexer": "ipython3",
   "version": "3.8.5"
  }
 },
 "nbformat": 4,
 "nbformat_minor": 4
}
