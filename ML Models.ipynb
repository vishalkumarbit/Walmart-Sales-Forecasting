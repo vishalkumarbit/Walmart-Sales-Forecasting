{
 "cells": [
  {
   "cell_type": "code",
   "execution_count": 2,
   "metadata": {},
   "outputs": [],
   "source": [
    "# importing libraries\n",
    "%matplotlib inline\n",
    "import warnings\n",
    "warnings.filterwarnings(\"ignore\")\n",
    "\n",
    "import numpy as np\n",
    "import pandas as pd\n",
    "import matplotlib.pyplot as plt\n",
    "import seaborn as sns\n",
    "import joblib\n",
    "\n",
    "import datetime\n",
    "\n",
    "from sklearn.linear_model import LinearRegression\n",
    "from sklearn.model_selection import train_test_split\n",
    "from sklearn.model_selection import GridSearchCV\n",
    "from sklearn.neighbors import KNeighborsRegressor\n",
    "from sklearn.preprocessing import StandardScaler\n",
    "from sklearn.ensemble import RandomForestRegressor\n",
    "from xgboost import XGBRegressor\n",
    "from sklearn.model_selection import RandomizedSearchCV\n",
    "from sklearn.tree import DecisionTreeRegressor"
   ]
  },
  {
   "cell_type": "markdown",
   "metadata": {},
   "source": [
    "### Define Metric"
   ]
  },
  {
   "cell_type": "code",
   "execution_count": 3,
   "metadata": {},
   "outputs": [],
   "source": [
    "def WMAE(dataset, real, predicted):\n",
    "  \n",
    "    weights = []\n",
    "    for i in dataset['IsHoliday']:\n",
    "        if i == 1:\n",
    "            weights.append(5)\n",
    "        else:\n",
    "            weights.append(1)\n",
    "    weights = np.array(weights)\n",
    "    wmae = np.sum(weights*abs(real-predicted))/(np.sum(weights))\n",
    "    return wmae"
   ]
  },
  {
   "cell_type": "markdown",
   "metadata": {},
   "source": [
    "### Data loading"
   ]
  },
  {
   "cell_type": "code",
   "execution_count": 4,
   "metadata": {},
   "outputs": [],
   "source": [
    "df = pd.read_csv(\"Final_data_train_FE.csv\")\n",
    "df = df[df['Weekly_Sales']>0]"
   ]
  },
  {
   "cell_type": "code",
   "execution_count": 5,
   "metadata": {},
   "outputs": [
    {
     "data": {
      "text/plain": [
       "(420212, 30)"
      ]
     },
     "execution_count": 5,
     "metadata": {},
     "output_type": "execute_result"
    }
   ],
   "source": [
    "df.shape"
   ]
  },
  {
   "cell_type": "code",
   "execution_count": 6,
   "metadata": {},
   "outputs": [
    {
     "data": {
      "text/html": [
       "<div>\n",
       "<style scoped>\n",
       "    .dataframe tbody tr th:only-of-type {\n",
       "        vertical-align: middle;\n",
       "    }\n",
       "\n",
       "    .dataframe tbody tr th {\n",
       "        vertical-align: top;\n",
       "    }\n",
       "\n",
       "    .dataframe thead th {\n",
       "        text-align: right;\n",
       "    }\n",
       "</style>\n",
       "<table border=\"1\" class=\"dataframe\">\n",
       "  <thead>\n",
       "    <tr style=\"text-align: right;\">\n",
       "      <th></th>\n",
       "      <th>Store</th>\n",
       "      <th>Dept</th>\n",
       "      <th>Date</th>\n",
       "      <th>Weekly_Sales</th>\n",
       "      <th>IsHoliday</th>\n",
       "      <th>Temperature</th>\n",
       "      <th>Fuel_Price</th>\n",
       "      <th>MarkDown1</th>\n",
       "      <th>MarkDown2</th>\n",
       "      <th>MarkDown3</th>\n",
       "      <th>...</th>\n",
       "      <th>Holiday_Type</th>\n",
       "      <th>Temperature_Cat</th>\n",
       "      <th>Fuel_Price_Cat</th>\n",
       "      <th>Holiday_Month</th>\n",
       "      <th>Week_of_the_month</th>\n",
       "      <th>weeks_for_christmas</th>\n",
       "      <th>weeks_for_thanksgiving</th>\n",
       "      <th>weeks_for_laborday</th>\n",
       "      <th>weeks_for_superbowl</th>\n",
       "      <th>no_of_weeks_for_next_holiday</th>\n",
       "    </tr>\n",
       "  </thead>\n",
       "  <tbody>\n",
       "    <tr>\n",
       "      <th>0</th>\n",
       "      <td>1</td>\n",
       "      <td>1</td>\n",
       "      <td>1.265308e+09</td>\n",
       "      <td>24924.50</td>\n",
       "      <td>0</td>\n",
       "      <td>42.31</td>\n",
       "      <td>2.572</td>\n",
       "      <td>0.0</td>\n",
       "      <td>0.0</td>\n",
       "      <td>0.0</td>\n",
       "      <td>...</td>\n",
       "      <td>0</td>\n",
       "      <td>40</td>\n",
       "      <td>3.0</td>\n",
       "      <td>3</td>\n",
       "      <td>1</td>\n",
       "      <td>47</td>\n",
       "      <td>42</td>\n",
       "      <td>31</td>\n",
       "      <td>1</td>\n",
       "      <td>1</td>\n",
       "    </tr>\n",
       "    <tr>\n",
       "      <th>1</th>\n",
       "      <td>1</td>\n",
       "      <td>2</td>\n",
       "      <td>1.265308e+09</td>\n",
       "      <td>50605.27</td>\n",
       "      <td>0</td>\n",
       "      <td>42.31</td>\n",
       "      <td>2.572</td>\n",
       "      <td>0.0</td>\n",
       "      <td>0.0</td>\n",
       "      <td>0.0</td>\n",
       "      <td>...</td>\n",
       "      <td>0</td>\n",
       "      <td>40</td>\n",
       "      <td>3.0</td>\n",
       "      <td>3</td>\n",
       "      <td>1</td>\n",
       "      <td>47</td>\n",
       "      <td>42</td>\n",
       "      <td>31</td>\n",
       "      <td>1</td>\n",
       "      <td>1</td>\n",
       "    </tr>\n",
       "    <tr>\n",
       "      <th>2</th>\n",
       "      <td>1</td>\n",
       "      <td>3</td>\n",
       "      <td>1.265308e+09</td>\n",
       "      <td>13740.12</td>\n",
       "      <td>0</td>\n",
       "      <td>42.31</td>\n",
       "      <td>2.572</td>\n",
       "      <td>0.0</td>\n",
       "      <td>0.0</td>\n",
       "      <td>0.0</td>\n",
       "      <td>...</td>\n",
       "      <td>0</td>\n",
       "      <td>40</td>\n",
       "      <td>3.0</td>\n",
       "      <td>3</td>\n",
       "      <td>1</td>\n",
       "      <td>47</td>\n",
       "      <td>42</td>\n",
       "      <td>31</td>\n",
       "      <td>1</td>\n",
       "      <td>1</td>\n",
       "    </tr>\n",
       "    <tr>\n",
       "      <th>3</th>\n",
       "      <td>1</td>\n",
       "      <td>4</td>\n",
       "      <td>1.265308e+09</td>\n",
       "      <td>39954.04</td>\n",
       "      <td>0</td>\n",
       "      <td>42.31</td>\n",
       "      <td>2.572</td>\n",
       "      <td>0.0</td>\n",
       "      <td>0.0</td>\n",
       "      <td>0.0</td>\n",
       "      <td>...</td>\n",
       "      <td>0</td>\n",
       "      <td>40</td>\n",
       "      <td>3.0</td>\n",
       "      <td>3</td>\n",
       "      <td>1</td>\n",
       "      <td>47</td>\n",
       "      <td>42</td>\n",
       "      <td>31</td>\n",
       "      <td>1</td>\n",
       "      <td>1</td>\n",
       "    </tr>\n",
       "    <tr>\n",
       "      <th>4</th>\n",
       "      <td>1</td>\n",
       "      <td>5</td>\n",
       "      <td>1.265308e+09</td>\n",
       "      <td>32229.38</td>\n",
       "      <td>0</td>\n",
       "      <td>42.31</td>\n",
       "      <td>2.572</td>\n",
       "      <td>0.0</td>\n",
       "      <td>0.0</td>\n",
       "      <td>0.0</td>\n",
       "      <td>...</td>\n",
       "      <td>0</td>\n",
       "      <td>40</td>\n",
       "      <td>3.0</td>\n",
       "      <td>3</td>\n",
       "      <td>1</td>\n",
       "      <td>47</td>\n",
       "      <td>42</td>\n",
       "      <td>31</td>\n",
       "      <td>1</td>\n",
       "      <td>1</td>\n",
       "    </tr>\n",
       "  </tbody>\n",
       "</table>\n",
       "<p>5 rows × 30 columns</p>\n",
       "</div>"
      ],
      "text/plain": [
       "   Store  Dept          Date  Weekly_Sales  IsHoliday  Temperature  \\\n",
       "0      1     1  1.265308e+09      24924.50          0        42.31   \n",
       "1      1     2  1.265308e+09      50605.27          0        42.31   \n",
       "2      1     3  1.265308e+09      13740.12          0        42.31   \n",
       "3      1     4  1.265308e+09      39954.04          0        42.31   \n",
       "4      1     5  1.265308e+09      32229.38          0        42.31   \n",
       "\n",
       "   Fuel_Price  MarkDown1  MarkDown2  MarkDown3  ...  Holiday_Type  \\\n",
       "0       2.572        0.0        0.0        0.0  ...             0   \n",
       "1       2.572        0.0        0.0        0.0  ...             0   \n",
       "2       2.572        0.0        0.0        0.0  ...             0   \n",
       "3       2.572        0.0        0.0        0.0  ...             0   \n",
       "4       2.572        0.0        0.0        0.0  ...             0   \n",
       "\n",
       "   Temperature_Cat  Fuel_Price_Cat  Holiday_Month  Week_of_the_month  \\\n",
       "0               40             3.0              3                  1   \n",
       "1               40             3.0              3                  1   \n",
       "2               40             3.0              3                  1   \n",
       "3               40             3.0              3                  1   \n",
       "4               40             3.0              3                  1   \n",
       "\n",
       "   weeks_for_christmas  weeks_for_thanksgiving  weeks_for_laborday  \\\n",
       "0                   47                      42                  31   \n",
       "1                   47                      42                  31   \n",
       "2                   47                      42                  31   \n",
       "3                   47                      42                  31   \n",
       "4                   47                      42                  31   \n",
       "\n",
       "   weeks_for_superbowl  no_of_weeks_for_next_holiday  \n",
       "0                    1                             1  \n",
       "1                    1                             1  \n",
       "2                    1                             1  \n",
       "3                    1                             1  \n",
       "4                    1                             1  \n",
       "\n",
       "[5 rows x 30 columns]"
      ]
     },
     "execution_count": 6,
     "metadata": {},
     "output_type": "execute_result"
    }
   ],
   "source": [
    "df.head()"
   ]
  },
  {
   "cell_type": "code",
   "execution_count": 7,
   "metadata": {},
   "outputs": [],
   "source": [
    "X = df.drop(['Weekly_Sales'], axis=1)\n",
    "y = df['Weekly_Sales']"
   ]
  },
  {
   "cell_type": "code",
   "execution_count": 8,
   "metadata": {},
   "outputs": [],
   "source": [
    "X_train, X_test, y_train, y_test = train_test_split(X, y, test_size=0.3, random_state=0)"
   ]
  },
  {
   "cell_type": "code",
   "execution_count": 9,
   "metadata": {},
   "outputs": [
    {
     "name": "stdout",
     "output_type": "stream",
     "text": [
      "(294148, 29)\n",
      "(126064, 29)\n",
      "(294148,)\n",
      "(126064,)\n"
     ]
    }
   ],
   "source": [
    "print(X_train.shape)\n",
    "print(X_test.shape)\n",
    "print(y_train.shape)\n",
    "print(y_test.shape)"
   ]
  },
  {
   "cell_type": "markdown",
   "metadata": {},
   "source": [
    "## Feature Importance"
   ]
  },
  {
   "cell_type": "code",
   "execution_count": 9,
   "metadata": {},
   "outputs": [
    {
     "data": {
      "text/plain": [
       "RandomForestRegressor()"
      ]
     },
     "execution_count": 9,
     "metadata": {},
     "output_type": "execute_result"
    }
   ],
   "source": [
    "clf = RandomForestRegressor()\n",
    "clf.fit(X_train, y_train)"
   ]
  },
  {
   "cell_type": "code",
   "execution_count": 10,
   "metadata": {},
   "outputs": [
    {
     "data": {
      "text/html": [
       "<div>\n",
       "<style scoped>\n",
       "    .dataframe tbody tr th:only-of-type {\n",
       "        vertical-align: middle;\n",
       "    }\n",
       "\n",
       "    .dataframe tbody tr th {\n",
       "        vertical-align: top;\n",
       "    }\n",
       "\n",
       "    .dataframe thead th {\n",
       "        text-align: right;\n",
       "    }\n",
       "</style>\n",
       "<table border=\"1\" class=\"dataframe\">\n",
       "  <thead>\n",
       "    <tr style=\"text-align: right;\">\n",
       "      <th></th>\n",
       "      <th>imp_features</th>\n",
       "      <th>feature_names</th>\n",
       "    </tr>\n",
       "  </thead>\n",
       "  <tbody>\n",
       "    <tr>\n",
       "      <th>1</th>\n",
       "      <td>0.628718</td>\n",
       "      <td>Dept</td>\n",
       "    </tr>\n",
       "    <tr>\n",
       "      <th>14</th>\n",
       "      <td>0.189240</td>\n",
       "      <td>Size</td>\n",
       "    </tr>\n",
       "    <tr>\n",
       "      <th>0</th>\n",
       "      <td>0.056911</td>\n",
       "      <td>Store</td>\n",
       "    </tr>\n",
       "    <tr>\n",
       "      <th>11</th>\n",
       "      <td>0.024701</td>\n",
       "      <td>CPI</td>\n",
       "    </tr>\n",
       "    <tr>\n",
       "      <th>25</th>\n",
       "      <td>0.023795</td>\n",
       "      <td>weeks_for_thanksgiving</td>\n",
       "    </tr>\n",
       "  </tbody>\n",
       "</table>\n",
       "</div>"
      ],
      "text/plain": [
       "    imp_features           feature_names\n",
       "1       0.628718                    Dept\n",
       "14      0.189240                    Size\n",
       "0       0.056911                   Store\n",
       "11      0.024701                     CPI\n",
       "25      0.023795  weeks_for_thanksgiving"
      ]
     },
     "execution_count": 10,
     "metadata": {},
     "output_type": "execute_result"
    }
   ],
   "source": [
    "feature_imp_df = pd.DataFrame()\n",
    "feature_imp_df['imp_features'] = clf.feature_importances_\n",
    "feature_imp_df['feature_names'] = X_train.columns\n",
    "feature_imp_df = feature_imp_df.sort_values(by='imp_features', ascending=False)\n",
    "feature_imp_df.head()"
   ]
  },
  {
   "cell_type": "code",
   "execution_count": 11,
   "metadata": {},
   "outputs": [
    {
     "data": {
      "image/png": "[encoded data removed]",
      "text/plain": [
       "<Figure size 1080x576 with 1 Axes>"
      ]
     },
     "metadata": {
      "needs_background": "light"
     },
     "output_type": "display_data"
    }
   ],
   "source": [
    "plt.figure(figsize=(15,8))\n",
    "sns.barplot(feature_imp_df['feature_names'], feature_imp_df['imp_features'])\n",
    "plt.title('Feature_names vs Importance')\n",
    "plt.xticks(rotation=90)\n",
    "plt.show()"
   ]
  },
  {
   "cell_type": "code",
   "execution_count": 10,
   "metadata": {},
   "outputs": [],
   "source": [
    "# selecting top 10 features\n",
    "X_train_top_10 = X_train[['Dept', 'Size', 'Store', 'weeks_for_thanksgiving', 'CPI', 'Type', 'Unemployment', 'weeks_for_laborday'\n",
    "                         , 'Week', 'IsHoliday']]\n",
    "X_test_top_10 = X_test[['Dept', 'Size', 'Store', 'weeks_for_thanksgiving', 'CPI', 'Type', 'Unemployment', 'weeks_for_laborday'\n",
    "                         , 'Week', 'IsHoliday']]\n",
    "\n",
    "# selecting top 15 features\n",
    "\n",
    "X_train_top_15 = X_train[['Dept', 'Size', 'Store', 'weeks_for_thanksgiving', 'CPI', 'Type', 'Unemployment', 'weeks_for_laborday'\n",
    "                         , 'Week', 'Temperature', 'weeks_for_christmas', 'day', 'Date', 'Fuel_Price', 'IsHoliday']]\n",
    "X_test_top_15 = X_test[['Dept', 'Size', 'Store', 'weeks_for_thanksgiving', 'CPI', 'Type', 'Unemployment', 'weeks_for_laborday'\n",
    "                         , 'Week', 'Temperature', 'weeks_for_christmas', 'day', 'Date', 'Fuel_Price', 'IsHoliday']]\n",
    "\n",
    "# Filtered features \n",
    "X_train_1 = X_train[['Dept', 'Size', 'Store', 'Type', 'Week', 'day', 'IsHoliday', 'year']]\n",
    "X_test_1 = X_test[['Dept', 'Size', 'Store', 'Type', 'Week', 'day', 'IsHoliday', 'year']]"
   ]
  },
  {
   "cell_type": "markdown",
   "metadata": {},
   "source": [
    "## Simple Linear Regression"
   ]
  },
  {
   "cell_type": "markdown",
   "metadata": {},
   "source": [
    "### Using all features"
   ]
  },
  {
   "cell_type": "code",
   "execution_count": 14,
   "metadata": {},
   "outputs": [
    {
     "name": "stdout",
     "output_type": "stream",
     "text": [
      "14769.251083188223\n",
      "14808.070520835909\n"
     ]
    }
   ],
   "source": [
    "model1 = LinearRegression(fit_intercept=True, normalize=True, n_jobs=-1)\n",
    "model1.fit(X_train, y_train)\n",
    "predicted_train_y_lr = model1.predict(X_train)\n",
    "predicted_test_y_lr = model1.predict(X_test)\n",
    "\n",
    "wmae_train_score = WMAE(X_train, y_train, predicted_train_y_lr)\n",
    "wmae_test_score = WMAE(X_test, y_test, predicted_test_y_lr)\n",
    "\n",
    "print(wmae_train_score)\n",
    "print(wmae_test_score)"
   ]
  },
  {
   "cell_type": "markdown",
   "metadata": {},
   "source": [
    "### Using top 15 features"
   ]
  },
  {
   "cell_type": "code",
   "execution_count": 16,
   "metadata": {},
   "outputs": [
    {
     "name": "stdout",
     "output_type": "stream",
     "text": [
      "14801.28715452829\n",
      "14836.594884037866\n"
     ]
    }
   ],
   "source": [
    "model1 = LinearRegression(fit_intercept=True, normalize=True, n_jobs=-1)\n",
    "model1.fit(X_train_top_15, y_train)\n",
    "predicted_train_y_lr = model1.predict(X_train_top_15)\n",
    "predicted_test_y_lr = model1.predict(X_test_top_15)\n",
    "\n",
    "wmae_train_score = WMAE(X_train_top_15, y_train, predicted_train_y_lr)\n",
    "wmae_test_score = WMAE(X_test_top_15, y_test, predicted_test_y_lr)\n",
    "\n",
    "print(wmae_train_score)\n",
    "print(wmae_test_score)"
   ]
  },
  {
   "cell_type": "markdown",
   "metadata": {},
   "source": [
    "### Using top 10 features"
   ]
  },
  {
   "cell_type": "code",
   "execution_count": 17,
   "metadata": {},
   "outputs": [
    {
     "name": "stdout",
     "output_type": "stream",
     "text": [
      "14806.418349922193\n",
      "14846.624473955824\n"
     ]
    }
   ],
   "source": [
    "model1 = LinearRegression(fit_intercept=True, normalize=True, n_jobs=-1)\n",
    "model1.fit(X_train_top_10, y_train)\n",
    "predicted_train_y_lr = model1.predict(X_train_top_10)\n",
    "predicted_test_y_lr = model1.predict(X_test_top_10)\n",
    "\n",
    "wmae_train_score = WMAE(X_train_top_10, y_train, predicted_train_y_lr)\n",
    "wmae_test_score = WMAE(X_test_top_10, y_test, predicted_test_y_lr)\n",
    "\n",
    "print(wmae_train_score)\n",
    "print(wmae_test_score)"
   ]
  },
  {
   "cell_type": "markdown",
   "metadata": {},
   "source": [
    "### Using filtered features"
   ]
  },
  {
   "cell_type": "code",
   "execution_count": 35,
   "metadata": {},
   "outputs": [
    {
     "name": "stdout",
     "output_type": "stream",
     "text": [
      "14808.218694520228\n",
      "14850.005584504932\n"
     ]
    }
   ],
   "source": [
    "model1 = LinearRegression(fit_intercept=True, normalize=True, n_jobs=-1)\n",
    "model1.fit(X_train_1, y_train)\n",
    "predicted_train_y = model1.predict(X_train_1)\n",
    "predicted_test_y = model1.predict(X_test_1)\n",
    "\n",
    "wmae_train_score = WMAE(X_train_1, y_train, predicted_train_y)\n",
    "wmae_test_score = WMAE(X_test_1, y_test, predicted_test_y)\n",
    "\n",
    "print(wmae_train_score)\n",
    "print(wmae_test_score)"
   ]
  },
  {
   "cell_type": "markdown",
   "metadata": {},
   "source": [
    "## XG Boost"
   ]
  },
  {
   "cell_type": "markdown",
   "metadata": {},
   "source": [
    "### 1. XGBoost using all features"
   ]
  },
  {
   "cell_type": "code",
   "execution_count": 12,
   "metadata": {},
   "outputs": [],
   "source": [
    "from xgboost import XGBRegressor\n",
    "from sklearn.model_selection import RandomizedSearchCV"
   ]
  },
  {
   "cell_type": "code",
   "execution_count": 11,
   "metadata": {},
   "outputs": [
    {
     "data": {
      "text/plain": [
       "RandomizedSearchCV(cv=3,\n",
       "                   estimator=XGBRegressor(base_score=None, booster=None,\n",
       "                                          colsample_bylevel=None,\n",
       "                                          colsample_bynode=None,\n",
       "                                          colsample_bytree=None, gamma=None,\n",
       "                                          gpu_id=None, importance_type='gain',\n",
       "                                          interaction_constraints=None,\n",
       "                                          learning_rate=None,\n",
       "                                          max_delta_step=None, max_depth=None,\n",
       "                                          min_child_weight=None, missing=nan,\n",
       "                                          monotone_constraints=None,\n",
       "                                          n_estimators=100, n_jobs=None,\n",
       "                                          num_parallel_tree=None,\n",
       "                                          random_state=None, reg_alpha=None,\n",
       "                                          reg_lambda=None,\n",
       "                                          scale_pos_weight=None, subsample=None,\n",
       "                                          tree_method=None,\n",
       "                                          validate_parameters=None,\n",
       "                                          verbosity=None),\n",
       "                   n_jobs=-1,\n",
       "                   param_distributions={'learning_rate': [0.05, 0.1, 0.2, 0.4],\n",
       "                                        'max_depth': [8, 10, 12, 14],\n",
       "                                        'n_estimators': [800, 1000, 1200, 1400,\n",
       "                                                         1600, 1800, 2000]},\n",
       "                   return_train_score=True)"
      ]
     },
     "execution_count": 11,
     "metadata": {},
     "output_type": "execute_result"
    }
   ],
   "source": [
    "xgb_model = XGBRegressor()\n",
    "parameters = {'learning_rate':[0.05, 0.1,0.2,0.4],\n",
    "              'n_estimators':[800, 1000, 1200, 1400, 1600, 1800, 2000],\n",
    "              'max_depth':[8, 10, 12, 14]}\n",
    "clf = RandomizedSearchCV(xgb_model, parameters, cv=3, n_jobs=-1, return_train_score=True)\n",
    "clf.fit(X_train,y_train)"
   ]
  },
  {
   "cell_type": "code",
   "execution_count": 12,
   "metadata": {},
   "outputs": [
    {
     "data": {
      "text/html": [
       "<div>\n",
       "<style scoped>\n",
       "    .dataframe tbody tr th:only-of-type {\n",
       "        vertical-align: middle;\n",
       "    }\n",
       "\n",
       "    .dataframe tbody tr th {\n",
       "        vertical-align: top;\n",
       "    }\n",
       "\n",
       "    .dataframe thead th {\n",
       "        text-align: right;\n",
       "    }\n",
       "</style>\n",
       "<table border=\"1\" class=\"dataframe\">\n",
       "  <thead>\n",
       "    <tr style=\"text-align: right;\">\n",
       "      <th></th>\n",
       "      <th>mean_fit_time</th>\n",
       "      <th>std_fit_time</th>\n",
       "      <th>mean_score_time</th>\n",
       "      <th>std_score_time</th>\n",
       "      <th>param_n_estimators</th>\n",
       "      <th>param_max_depth</th>\n",
       "      <th>param_learning_rate</th>\n",
       "      <th>params</th>\n",
       "      <th>split0_test_score</th>\n",
       "      <th>split1_test_score</th>\n",
       "      <th>split2_test_score</th>\n",
       "      <th>mean_test_score</th>\n",
       "      <th>std_test_score</th>\n",
       "      <th>rank_test_score</th>\n",
       "      <th>split0_train_score</th>\n",
       "      <th>split1_train_score</th>\n",
       "      <th>split2_train_score</th>\n",
       "      <th>mean_train_score</th>\n",
       "      <th>std_train_score</th>\n",
       "    </tr>\n",
       "  </thead>\n",
       "  <tbody>\n",
       "    <tr>\n",
       "      <th>0</th>\n",
       "      <td>833.382929</td>\n",
       "      <td>4.810661</td>\n",
       "      <td>3.753899</td>\n",
       "      <td>0.512152</td>\n",
       "      <td>800</td>\n",
       "      <td>10</td>\n",
       "      <td>0.2</td>\n",
       "      <td>{'n_estimators': 800, 'max_depth': 10, 'learni...</td>\n",
       "      <td>0.977131</td>\n",
       "      <td>0.981052</td>\n",
       "      <td>0.979044</td>\n",
       "      <td>0.979076</td>\n",
       "      <td>0.001601</td>\n",
       "      <td>3</td>\n",
       "      <td>0.999172</td>\n",
       "      <td>0.999164</td>\n",
       "      <td>0.999139</td>\n",
       "      <td>0.999159</td>\n",
       "      <td>1.413032e-05</td>\n",
       "    </tr>\n",
       "    <tr>\n",
       "      <th>1</th>\n",
       "      <td>2750.033598</td>\n",
       "      <td>397.120028</td>\n",
       "      <td>13.328707</td>\n",
       "      <td>2.227661</td>\n",
       "      <td>1600</td>\n",
       "      <td>10</td>\n",
       "      <td>0.05</td>\n",
       "      <td>{'n_estimators': 1600, 'max_depth': 10, 'learn...</td>\n",
       "      <td>0.976881</td>\n",
       "      <td>0.980240</td>\n",
       "      <td>0.979768</td>\n",
       "      <td>0.978963</td>\n",
       "      <td>0.001485</td>\n",
       "      <td>4</td>\n",
       "      <td>0.997282</td>\n",
       "      <td>0.997390</td>\n",
       "      <td>0.997462</td>\n",
       "      <td>0.997378</td>\n",
       "      <td>7.394887e-05</td>\n",
       "    </tr>\n",
       "    <tr>\n",
       "      <th>2</th>\n",
       "      <td>5694.589475</td>\n",
       "      <td>284.695656</td>\n",
       "      <td>20.425208</td>\n",
       "      <td>5.662587</td>\n",
       "      <td>1600</td>\n",
       "      <td>14</td>\n",
       "      <td>0.1</td>\n",
       "      <td>{'n_estimators': 1600, 'max_depth': 14, 'learn...</td>\n",
       "      <td>0.975698</td>\n",
       "      <td>0.978155</td>\n",
       "      <td>0.977969</td>\n",
       "      <td>0.977274</td>\n",
       "      <td>0.001117</td>\n",
       "      <td>6</td>\n",
       "      <td>0.999993</td>\n",
       "      <td>0.999992</td>\n",
       "      <td>0.999994</td>\n",
       "      <td>0.999993</td>\n",
       "      <td>5.610977e-07</td>\n",
       "    </tr>\n",
       "    <tr>\n",
       "      <th>3</th>\n",
       "      <td>2035.561921</td>\n",
       "      <td>63.297330</td>\n",
       "      <td>5.661052</td>\n",
       "      <td>1.844566</td>\n",
       "      <td>1400</td>\n",
       "      <td>8</td>\n",
       "      <td>0.2</td>\n",
       "      <td>{'n_estimators': 1400, 'max_depth': 8, 'learni...</td>\n",
       "      <td>0.978192</td>\n",
       "      <td>0.982044</td>\n",
       "      <td>0.978880</td>\n",
       "      <td>0.979705</td>\n",
       "      <td>0.001677</td>\n",
       "      <td>1</td>\n",
       "      <td>0.997983</td>\n",
       "      <td>0.997965</td>\n",
       "      <td>0.997941</td>\n",
       "      <td>0.997963</td>\n",
       "      <td>1.704948e-05</td>\n",
       "    </tr>\n",
       "    <tr>\n",
       "      <th>4</th>\n",
       "      <td>1314.363051</td>\n",
       "      <td>82.309911</td>\n",
       "      <td>4.284361</td>\n",
       "      <td>0.041704</td>\n",
       "      <td>800</td>\n",
       "      <td>12</td>\n",
       "      <td>0.4</td>\n",
       "      <td>{'n_estimators': 800, 'max_depth': 12, 'learni...</td>\n",
       "      <td>0.975614</td>\n",
       "      <td>0.979071</td>\n",
       "      <td>0.974866</td>\n",
       "      <td>0.976517</td>\n",
       "      <td>0.001832</td>\n",
       "      <td>8</td>\n",
       "      <td>0.999995</td>\n",
       "      <td>0.999995</td>\n",
       "      <td>0.999995</td>\n",
       "      <td>0.999995</td>\n",
       "      <td>2.535044e-07</td>\n",
       "    </tr>\n",
       "  </tbody>\n",
       "</table>\n",
       "</div>"
      ],
      "text/plain": [
       "   mean_fit_time  std_fit_time  mean_score_time  std_score_time  \\\n",
       "0     833.382929      4.810661         3.753899        0.512152   \n",
       "1    2750.033598    397.120028        13.328707        2.227661   \n",
       "2    5694.589475    284.695656        20.425208        5.662587   \n",
       "3    2035.561921     63.297330         5.661052        1.844566   \n",
       "4    1314.363051     82.309911         4.284361        0.041704   \n",
       "\n",
       "  param_n_estimators param_max_depth param_learning_rate  \\\n",
       "0                800              10                 0.2   \n",
       "1               1600              10                0.05   \n",
       "2               1600              14                 0.1   \n",
       "3               1400               8                 0.2   \n",
       "4                800              12                 0.4   \n",
       "\n",
       "                                              params  split0_test_score  \\\n",
       "0  {'n_estimators': 800, 'max_depth': 10, 'learni...           0.977131   \n",
       "1  {'n_estimators': 1600, 'max_depth': 10, 'learn...           0.976881   \n",
       "2  {'n_estimators': 1600, 'max_depth': 14, 'learn...           0.975698   \n",
       "3  {'n_estimators': 1400, 'max_depth': 8, 'learni...           0.978192   \n",
       "4  {'n_estimators': 800, 'max_depth': 12, 'learni...           0.975614   \n",
       "\n",
       "   split1_test_score  split2_test_score  mean_test_score  std_test_score  \\\n",
       "0           0.981052           0.979044         0.979076        0.001601   \n",
       "1           0.980240           0.979768         0.978963        0.001485   \n",
       "2           0.978155           0.977969         0.977274        0.001117   \n",
       "3           0.982044           0.978880         0.979705        0.001677   \n",
       "4           0.979071           0.974866         0.976517        0.001832   \n",
       "\n",
       "   rank_test_score  split0_train_score  split1_train_score  \\\n",
       "0                3            0.999172            0.999164   \n",
       "1                4            0.997282            0.997390   \n",
       "2                6            0.999993            0.999992   \n",
       "3                1            0.997983            0.997965   \n",
       "4                8            0.999995            0.999995   \n",
       "\n",
       "   split2_train_score  mean_train_score  std_train_score  \n",
       "0            0.999139          0.999159     1.413032e-05  \n",
       "1            0.997462          0.997378     7.394887e-05  \n",
       "2            0.999994          0.999993     5.610977e-07  \n",
       "3            0.997941          0.997963     1.704948e-05  \n",
       "4            0.999995          0.999995     2.535044e-07  "
      ]
     },
     "execution_count": 12,
     "metadata": {},
     "output_type": "execute_result"
    }
   ],
   "source": [
    "results = pd.DataFrame.from_dict(clf.cv_results_)\n",
    "results.head()"
   ]
  },
  {
   "cell_type": "code",
   "execution_count": 13,
   "metadata": {},
   "outputs": [
    {
     "data": {
      "text/plain": [
       "{'n_estimators': 1400, 'max_depth': 8, 'learning_rate': 0.2}"
      ]
     },
     "execution_count": 13,
     "metadata": {},
     "output_type": "execute_result"
    }
   ],
   "source": [
    "clf.best_params_"
   ]
  },
  {
   "cell_type": "code",
   "execution_count": 17,
   "metadata": {},
   "outputs": [
    {
     "name": "stdout",
     "output_type": "stream",
     "text": [
      "752.7506993229604\n",
      "1514.5331793397615\n"
     ]
    }
   ],
   "source": [
    "model2 = XGBRegressor(learning_rate=0.2, n_estimators=1400, max_depth=8, n_jobs=-1)\n",
    "model2.fit(X_train, y_train)\n",
    "predicted_train_y_xg = model2.predict(X_train)\n",
    "predicted_test_y_xg = model2.predict(X_test)\n",
    "\n",
    "wmae_train_score = WMAE(X_train, y_train, predicted_train_y_xg)\n",
    "wmae_test_score = WMAE(X_test, y_test, predicted_test_y_xg)\n",
    "\n",
    "print(wmae_train_score)\n",
    "print(wmae_test_score)"
   ]
  },
  {
   "cell_type": "markdown",
   "metadata": {},
   "source": [
    "### 2. XGBoost using top 15 features"
   ]
  },
  {
   "cell_type": "code",
   "execution_count": 37,
   "metadata": {},
   "outputs": [
    {
     "name": "stdout",
     "output_type": "stream",
     "text": [
      "1014.5588627317001\n",
      "1513.895236320939\n"
     ]
    }
   ],
   "source": [
    "model2 = XGBRegressor(learning_rate=0.2, n_estimators=1400, max_depth=8, n_jobs=-1)\n",
    "model2.fit(X_train_top_15, y_train)\n",
    "predicted_train_y_xg = model2.predict(X_train_top_15)\n",
    "predicted_test_y_xg = model2.predict(X_test_top_15)\n",
    "\n",
    "wmae_train_score = WMAE(X_train_top_15, y_train, predicted_train_y_xg)\n",
    "wmae_test_score = WMAE(X_test_top_15, y_test, predicted_test_y_xg)\n",
    "\n",
    "print(wmae_train_score)\n",
    "print(wmae_test_score)"
   ]
  },
  {
   "cell_type": "markdown",
   "metadata": {},
   "source": [
    "### XGBoost Using top 10 features"
   ]
  },
  {
   "cell_type": "code",
   "execution_count": 38,
   "metadata": {},
   "outputs": [
    {
     "name": "stdout",
     "output_type": "stream",
     "text": [
      "1094.3024053864585\n",
      "1546.5289738750078\n"
     ]
    }
   ],
   "source": [
    "model2 = XGBRegressor(learning_rate=0.2, n_estimators=1400, max_depth=8, n_jobs=-1)\n",
    "model2.fit(X_train_top_10, y_train)\n",
    "predicted_train_y_xg = model2.predict(X_train_top_10)\n",
    "predicted_test_y_xg = model2.predict(X_test_top_10)\n",
    "\n",
    "wmae_train_score = WMAE(X_train_top_10, y_train, predicted_train_y_xg)\n",
    "wmae_test_score = WMAE(X_test_top_10, y_test, predicted_test_y_xg)\n",
    "\n",
    "print(wmae_train_score)\n",
    "print(wmae_test_score)"
   ]
  },
  {
   "cell_type": "markdown",
   "metadata": {},
   "source": [
    "### Using filtered features"
   ]
  },
  {
   "cell_type": "code",
   "execution_count": 39,
   "metadata": {},
   "outputs": [
    {
     "name": "stdout",
     "output_type": "stream",
     "text": [
      "997.0493221976978\n",
      "1383.3333086570542\n"
     ]
    }
   ],
   "source": [
    "model1 = XGBRegressor(learning_rate=0.2, n_estimators=1400, max_depth=8, n_jobs=-1)\n",
    "model1.fit(X_train_1, y_train)\n",
    "predicted_train_y = model1.predict(X_train_1)\n",
    "predicted_test_y = model1.predict(X_test_1)\n",
    "\n",
    "wmae_train_score = WMAE(X_train_1, y_train, predicted_train_y)\n",
    "wmae_test_score = WMAE(X_test_1, y_test, predicted_test_y)\n",
    "\n",
    "print(wmae_train_score)\n",
    "print(wmae_test_score)"
   ]
  },
  {
   "cell_type": "markdown",
   "metadata": {},
   "source": [
    "## RandomForest"
   ]
  },
  {
   "cell_type": "markdown",
   "metadata": {},
   "source": [
    "### Using all features"
   ]
  },
  {
   "cell_type": "code",
   "execution_count": 40,
   "metadata": {},
   "outputs": [
    {
     "data": {
      "text/plain": [
       "RandomizedSearchCV(cv=3, estimator=RandomForestRegressor(), n_jobs=-1,\n",
       "                   param_distributions={'max_depth': [10, 20, 30, 40, 50, 60,\n",
       "                                                      70, 80, 90],\n",
       "                                        'n_estimators': [20, 50, 100, 150, 200,\n",
       "                                                         250, 300, 350]},\n",
       "                   return_train_score=True)"
      ]
     },
     "execution_count": 40,
     "metadata": {},
     "output_type": "execute_result"
    }
   ],
   "source": [
    "rf_model = RandomForestRegressor()\n",
    "parameters = {'max_depth': [10, 20, 30, 40, 50, 60, 70, 80, 90],\n",
    "              'n_estimators': [20, 50, 100, 150, 200, 250, 300, 350]}\n",
    "clf = RandomizedSearchCV(rf_model, parameters, cv=3, n_jobs=-1, return_train_score=True)\n",
    "clf.fit(X_train,y_train)"
   ]
  },
  {
   "cell_type": "code",
   "execution_count": 41,
   "metadata": {},
   "outputs": [
    {
     "data": {
      "text/html": [
       "<div>\n",
       "<style scoped>\n",
       "    .dataframe tbody tr th:only-of-type {\n",
       "        vertical-align: middle;\n",
       "    }\n",
       "\n",
       "    .dataframe tbody tr th {\n",
       "        vertical-align: top;\n",
       "    }\n",
       "\n",
       "    .dataframe thead th {\n",
       "        text-align: right;\n",
       "    }\n",
       "</style>\n",
       "<table border=\"1\" class=\"dataframe\">\n",
       "  <thead>\n",
       "    <tr style=\"text-align: right;\">\n",
       "      <th></th>\n",
       "      <th>mean_fit_time</th>\n",
       "      <th>std_fit_time</th>\n",
       "      <th>mean_score_time</th>\n",
       "      <th>std_score_time</th>\n",
       "      <th>param_n_estimators</th>\n",
       "      <th>param_max_depth</th>\n",
       "      <th>params</th>\n",
       "      <th>split0_test_score</th>\n",
       "      <th>split1_test_score</th>\n",
       "      <th>split2_test_score</th>\n",
       "      <th>mean_test_score</th>\n",
       "      <th>std_test_score</th>\n",
       "      <th>rank_test_score</th>\n",
       "      <th>split0_train_score</th>\n",
       "      <th>split1_train_score</th>\n",
       "      <th>split2_train_score</th>\n",
       "      <th>mean_train_score</th>\n",
       "      <th>std_train_score</th>\n",
       "    </tr>\n",
       "  </thead>\n",
       "  <tbody>\n",
       "    <tr>\n",
       "      <th>0</th>\n",
       "      <td>839.222353</td>\n",
       "      <td>0.974664</td>\n",
       "      <td>4.921120</td>\n",
       "      <td>0.044108</td>\n",
       "      <td>350</td>\n",
       "      <td>10</td>\n",
       "      <td>{'n_estimators': 350, 'max_depth': 10}</td>\n",
       "      <td>0.891042</td>\n",
       "      <td>0.892151</td>\n",
       "      <td>0.887730</td>\n",
       "      <td>0.890308</td>\n",
       "      <td>0.001878</td>\n",
       "      <td>10</td>\n",
       "      <td>0.902581</td>\n",
       "      <td>0.898347</td>\n",
       "      <td>0.898981</td>\n",
       "      <td>0.899970</td>\n",
       "      <td>0.001865</td>\n",
       "    </tr>\n",
       "    <tr>\n",
       "      <th>1</th>\n",
       "      <td>248.602016</td>\n",
       "      <td>0.794496</td>\n",
       "      <td>4.323979</td>\n",
       "      <td>0.042362</td>\n",
       "      <td>50</td>\n",
       "      <td>90</td>\n",
       "      <td>{'n_estimators': 50, 'max_depth': 90}</td>\n",
       "      <td>0.970187</td>\n",
       "      <td>0.975283</td>\n",
       "      <td>0.970993</td>\n",
       "      <td>0.972155</td>\n",
       "      <td>0.002237</td>\n",
       "      <td>6</td>\n",
       "      <td>0.996237</td>\n",
       "      <td>0.995930</td>\n",
       "      <td>0.996202</td>\n",
       "      <td>0.996123</td>\n",
       "      <td>0.000137</td>\n",
       "    </tr>\n",
       "    <tr>\n",
       "      <th>2</th>\n",
       "      <td>1475.259818</td>\n",
       "      <td>2.888146</td>\n",
       "      <td>47.338790</td>\n",
       "      <td>2.926575</td>\n",
       "      <td>300</td>\n",
       "      <td>50</td>\n",
       "      <td>{'n_estimators': 300, 'max_depth': 50}</td>\n",
       "      <td>0.970625</td>\n",
       "      <td>0.975849</td>\n",
       "      <td>0.971435</td>\n",
       "      <td>0.972636</td>\n",
       "      <td>0.002295</td>\n",
       "      <td>2</td>\n",
       "      <td>0.996463</td>\n",
       "      <td>0.996266</td>\n",
       "      <td>0.996585</td>\n",
       "      <td>0.996438</td>\n",
       "      <td>0.000131</td>\n",
       "    </tr>\n",
       "    <tr>\n",
       "      <th>3</th>\n",
       "      <td>739.759503</td>\n",
       "      <td>15.808483</td>\n",
       "      <td>15.440308</td>\n",
       "      <td>6.133861</td>\n",
       "      <td>150</td>\n",
       "      <td>80</td>\n",
       "      <td>{'n_estimators': 150, 'max_depth': 80}</td>\n",
       "      <td>0.970320</td>\n",
       "      <td>0.975630</td>\n",
       "      <td>0.971309</td>\n",
       "      <td>0.972420</td>\n",
       "      <td>0.002306</td>\n",
       "      <td>5</td>\n",
       "      <td>0.996379</td>\n",
       "      <td>0.996214</td>\n",
       "      <td>0.996507</td>\n",
       "      <td>0.996366</td>\n",
       "      <td>0.000120</td>\n",
       "    </tr>\n",
       "    <tr>\n",
       "      <th>4</th>\n",
       "      <td>1702.294283</td>\n",
       "      <td>5.213811</td>\n",
       "      <td>102.687902</td>\n",
       "      <td>0.739872</td>\n",
       "      <td>350</td>\n",
       "      <td>70</td>\n",
       "      <td>{'n_estimators': 350, 'max_depth': 70}</td>\n",
       "      <td>0.970502</td>\n",
       "      <td>0.976143</td>\n",
       "      <td>0.971720</td>\n",
       "      <td>0.972788</td>\n",
       "      <td>0.002424</td>\n",
       "      <td>1</td>\n",
       "      <td>0.996444</td>\n",
       "      <td>0.996129</td>\n",
       "      <td>0.996644</td>\n",
       "      <td>0.996406</td>\n",
       "      <td>0.000212</td>\n",
       "    </tr>\n",
       "    <tr>\n",
       "      <th>5</th>\n",
       "      <td>502.123136</td>\n",
       "      <td>16.433412</td>\n",
       "      <td>15.705079</td>\n",
       "      <td>11.612402</td>\n",
       "      <td>100</td>\n",
       "      <td>90</td>\n",
       "      <td>{'n_estimators': 100, 'max_depth': 90}</td>\n",
       "      <td>0.970131</td>\n",
       "      <td>0.975240</td>\n",
       "      <td>0.971060</td>\n",
       "      <td>0.972144</td>\n",
       "      <td>0.002222</td>\n",
       "      <td>7</td>\n",
       "      <td>0.996331</td>\n",
       "      <td>0.996100</td>\n",
       "      <td>0.996522</td>\n",
       "      <td>0.996318</td>\n",
       "      <td>0.000173</td>\n",
       "    </tr>\n",
       "    <tr>\n",
       "      <th>6</th>\n",
       "      <td>1706.806862</td>\n",
       "      <td>5.775286</td>\n",
       "      <td>103.073727</td>\n",
       "      <td>1.198381</td>\n",
       "      <td>350</td>\n",
       "      <td>50</td>\n",
       "      <td>{'n_estimators': 350, 'max_depth': 50}</td>\n",
       "      <td>0.970623</td>\n",
       "      <td>0.975830</td>\n",
       "      <td>0.971400</td>\n",
       "      <td>0.972618</td>\n",
       "      <td>0.002293</td>\n",
       "      <td>3</td>\n",
       "      <td>0.996371</td>\n",
       "      <td>0.996237</td>\n",
       "      <td>0.996551</td>\n",
       "      <td>0.996386</td>\n",
       "      <td>0.000129</td>\n",
       "    </tr>\n",
       "    <tr>\n",
       "      <th>7</th>\n",
       "      <td>96.024386</td>\n",
       "      <td>0.342404</td>\n",
       "      <td>1.564004</td>\n",
       "      <td>0.033081</td>\n",
       "      <td>20</td>\n",
       "      <td>60</td>\n",
       "      <td>{'n_estimators': 20, 'max_depth': 60}</td>\n",
       "      <td>0.968880</td>\n",
       "      <td>0.974518</td>\n",
       "      <td>0.970568</td>\n",
       "      <td>0.971322</td>\n",
       "      <td>0.002363</td>\n",
       "      <td>8</td>\n",
       "      <td>0.995676</td>\n",
       "      <td>0.995622</td>\n",
       "      <td>0.995833</td>\n",
       "      <td>0.995710</td>\n",
       "      <td>0.000090</td>\n",
       "    </tr>\n",
       "    <tr>\n",
       "      <th>8</th>\n",
       "      <td>96.245807</td>\n",
       "      <td>0.401963</td>\n",
       "      <td>1.533777</td>\n",
       "      <td>0.025888</td>\n",
       "      <td>20</td>\n",
       "      <td>90</td>\n",
       "      <td>{'n_estimators': 20, 'max_depth': 90}</td>\n",
       "      <td>0.968467</td>\n",
       "      <td>0.973674</td>\n",
       "      <td>0.970537</td>\n",
       "      <td>0.970893</td>\n",
       "      <td>0.002141</td>\n",
       "      <td>9</td>\n",
       "      <td>0.995380</td>\n",
       "      <td>0.995433</td>\n",
       "      <td>0.995707</td>\n",
       "      <td>0.995507</td>\n",
       "      <td>0.000144</td>\n",
       "    </tr>\n",
       "    <tr>\n",
       "      <th>9</th>\n",
       "      <td>774.252783</td>\n",
       "      <td>187.698107</td>\n",
       "      <td>14.597935</td>\n",
       "      <td>4.416748</td>\n",
       "      <td>200</td>\n",
       "      <td>60</td>\n",
       "      <td>{'n_estimators': 200, 'max_depth': 60}</td>\n",
       "      <td>0.970775</td>\n",
       "      <td>0.975642</td>\n",
       "      <td>0.971284</td>\n",
       "      <td>0.972567</td>\n",
       "      <td>0.002184</td>\n",
       "      <td>4</td>\n",
       "      <td>0.996412</td>\n",
       "      <td>0.996104</td>\n",
       "      <td>0.996550</td>\n",
       "      <td>0.996355</td>\n",
       "      <td>0.000186</td>\n",
       "    </tr>\n",
       "  </tbody>\n",
       "</table>\n",
       "</div>"
      ],
      "text/plain": [
       "   mean_fit_time  std_fit_time  mean_score_time  std_score_time  \\\n",
       "0     839.222353      0.974664         4.921120        0.044108   \n",
       "1     248.602016      0.794496         4.323979        0.042362   \n",
       "2    1475.259818      2.888146        47.338790        2.926575   \n",
       "3     739.759503     15.808483        15.440308        6.133861   \n",
       "4    1702.294283      5.213811       102.687902        0.739872   \n",
       "5     502.123136     16.433412        15.705079       11.612402   \n",
       "6    1706.806862      5.775286       103.073727        1.198381   \n",
       "7      96.024386      0.342404         1.564004        0.033081   \n",
       "8      96.245807      0.401963         1.533777        0.025888   \n",
       "9     774.252783    187.698107        14.597935        4.416748   \n",
       "\n",
       "  param_n_estimators param_max_depth                                  params  \\\n",
       "0                350              10  {'n_estimators': 350, 'max_depth': 10}   \n",
       "1                 50              90   {'n_estimators': 50, 'max_depth': 90}   \n",
       "2                300              50  {'n_estimators': 300, 'max_depth': 50}   \n",
       "3                150              80  {'n_estimators': 150, 'max_depth': 80}   \n",
       "4                350              70  {'n_estimators': 350, 'max_depth': 70}   \n",
       "5                100              90  {'n_estimators': 100, 'max_depth': 90}   \n",
       "6                350              50  {'n_estimators': 350, 'max_depth': 50}   \n",
       "7                 20              60   {'n_estimators': 20, 'max_depth': 60}   \n",
       "8                 20              90   {'n_estimators': 20, 'max_depth': 90}   \n",
       "9                200              60  {'n_estimators': 200, 'max_depth': 60}   \n",
       "\n",
       "   split0_test_score  split1_test_score  split2_test_score  mean_test_score  \\\n",
       "0           0.891042           0.892151           0.887730         0.890308   \n",
       "1           0.970187           0.975283           0.970993         0.972155   \n",
       "2           0.970625           0.975849           0.971435         0.972636   \n",
       "3           0.970320           0.975630           0.971309         0.972420   \n",
       "4           0.970502           0.976143           0.971720         0.972788   \n",
       "5           0.970131           0.975240           0.971060         0.972144   \n",
       "6           0.970623           0.975830           0.971400         0.972618   \n",
       "7           0.968880           0.974518           0.970568         0.971322   \n",
       "8           0.968467           0.973674           0.970537         0.970893   \n",
       "9           0.970775           0.975642           0.971284         0.972567   \n",
       "\n",
       "   std_test_score  rank_test_score  split0_train_score  split1_train_score  \\\n",
       "0        0.001878               10            0.902581            0.898347   \n",
       "1        0.002237                6            0.996237            0.995930   \n",
       "2        0.002295                2            0.996463            0.996266   \n",
       "3        0.002306                5            0.996379            0.996214   \n",
       "4        0.002424                1            0.996444            0.996129   \n",
       "5        0.002222                7            0.996331            0.996100   \n",
       "6        0.002293                3            0.996371            0.996237   \n",
       "7        0.002363                8            0.995676            0.995622   \n",
       "8        0.002141                9            0.995380            0.995433   \n",
       "9        0.002184                4            0.996412            0.996104   \n",
       "\n",
       "   split2_train_score  mean_train_score  std_train_score  \n",
       "0            0.898981          0.899970         0.001865  \n",
       "1            0.996202          0.996123         0.000137  \n",
       "2            0.996585          0.996438         0.000131  \n",
       "3            0.996507          0.996366         0.000120  \n",
       "4            0.996644          0.996406         0.000212  \n",
       "5            0.996522          0.996318         0.000173  \n",
       "6            0.996551          0.996386         0.000129  \n",
       "7            0.995833          0.995710         0.000090  \n",
       "8            0.995707          0.995507         0.000144  \n",
       "9            0.996550          0.996355         0.000186  "
      ]
     },
     "execution_count": 41,
     "metadata": {},
     "output_type": "execute_result"
    }
   ],
   "source": [
    "results = pd.DataFrame.from_dict(clf.cv_results_)\n",
    "results"
   ]
  },
  {
   "cell_type": "code",
   "execution_count": 42,
   "metadata": {},
   "outputs": [
    {
     "data": {
      "text/plain": [
       "{'n_estimators': 350, 'max_depth': 70}"
      ]
     },
     "execution_count": 42,
     "metadata": {},
     "output_type": "execute_result"
    }
   ],
   "source": [
    "clf.best_params_"
   ]
  },
  {
   "cell_type": "code",
   "execution_count": 43,
   "metadata": {},
   "outputs": [
    {
     "name": "stdout",
     "output_type": "stream",
     "text": [
      "557.0921825113841\n",
      "1490.3441407565933\n"
     ]
    }
   ],
   "source": [
    "model1 = RandomForestRegressor(n_estimators=350, max_depth=70, n_jobs=-1)\n",
    "model1.fit(X_train, y_train)\n",
    "predicted_train_y_xg = model1.predict(X_train)\n",
    "predicted_test_y_xg = model1.predict(X_test)\n",
    "\n",
    "wmae_train_score = WMAE(X_train, y_train, predicted_train_y_xg)\n",
    "wmae_test_score = WMAE(X_test, y_test, predicted_test_y_xg)\n",
    "\n",
    "print(wmae_train_score)\n",
    "print(wmae_test_score)"
   ]
  },
  {
   "cell_type": "markdown",
   "metadata": {},
   "source": [
    "### Using top 15 features"
   ]
  },
  {
   "cell_type": "code",
   "execution_count": 44,
   "metadata": {},
   "outputs": [
    {
     "name": "stdout",
     "output_type": "stream",
     "text": [
      "550.2243057598372\n",
      "1475.7740175452664\n"
     ]
    }
   ],
   "source": [
    "model1 = RandomForestRegressor(n_estimators=350, max_depth=70, n_jobs=-1)\n",
    "\n",
    "model1.fit(X_train_top_15, y_train)\n",
    "predicted_train_y_xg = model1.predict(X_train_top_15)\n",
    "predicted_test_y_xg = model1.predict(X_test_top_15)\n",
    "\n",
    "wmae_train_score = WMAE(X_train_top_15, y_train, predicted_train_y_xg)\n",
    "wmae_test_score = WMAE(X_test_top_15, y_test, predicted_test_y_xg)\n",
    "\n",
    "print(wmae_train_score)\n",
    "print(wmae_test_score)"
   ]
  },
  {
   "cell_type": "markdown",
   "metadata": {},
   "source": [
    "### Using top 10 features"
   ]
  },
  {
   "cell_type": "code",
   "execution_count": 45,
   "metadata": {},
   "outputs": [
    {
     "name": "stdout",
     "output_type": "stream",
     "text": [
      "590.7215615014725\n",
      "1570.2021972566195\n"
     ]
    }
   ],
   "source": [
    "model1 = RandomForestRegressor(n_estimators=350, max_depth=70, n_jobs=-1)\n",
    "\n",
    "model1.fit(X_train_top_10, y_train)\n",
    "predicted_train_y_xg = model1.predict(X_train_top_10)\n",
    "predicted_test_y_xg = model1.predict(X_test_top_10)\n",
    "\n",
    "wmae_train_score = WMAE(X_train_top_10, y_train, predicted_train_y_xg)\n",
    "wmae_test_score = WMAE(X_test_top_10, y_test, predicted_test_y_xg)\n",
    "\n",
    "print(wmae_train_score)\n",
    "print(wmae_test_score)"
   ]
  },
  {
   "cell_type": "markdown",
   "metadata": {},
   "source": [
    "### Using base features"
   ]
  },
  {
   "cell_type": "code",
   "execution_count": 51,
   "metadata": {},
   "outputs": [
    {
     "name": "stdout",
     "output_type": "stream",
     "text": [
      "538.9341730629383\n",
      "1443.1361675272476\n"
     ]
    }
   ],
   "source": [
    "model1 = RandomForestRegressor(n_estimators=350, max_depth=70, n_jobs=-1)\n",
    "\n",
    "model1.fit(X_train_1, y_train)\n",
    "\n",
    "predicted_train_y_xg = model1.predict(X_train_1)\n",
    "predicted_test_y_xg = model1.predict(X_test_1)\n",
    "\n",
    "wmae_train_score = WMAE(X_train_1, y_train, predicted_train_y_xg)\n",
    "wmae_test_score = WMAE(X_test_1, y_test, predicted_test_y_xg)\n",
    "\n",
    "print(wmae_train_score)\n",
    "print(wmae_test_score)"
   ]
  },
  {
   "cell_type": "markdown",
   "metadata": {},
   "source": [
    "## Decision Tree"
   ]
  },
  {
   "cell_type": "markdown",
   "metadata": {},
   "source": [
    "### 1. Using all features"
   ]
  },
  {
   "cell_type": "code",
   "execution_count": 53,
   "metadata": {},
   "outputs": [
    {
     "data": {
      "text/plain": [
       "RandomizedSearchCV(cv=3, estimator=DecisionTreeRegressor(), n_jobs=-1,\n",
       "                   param_distributions={'max_depth': [2, 4, 6, 8, 10, 12, 14,\n",
       "                                                      16, 18, 20, 22, 24],\n",
       "                                        'min_samples_leaf': [5, 10, 20, 50, 60,\n",
       "                                                             70, 80]},\n",
       "                   return_train_score=True)"
      ]
     },
     "execution_count": 53,
     "metadata": {},
     "output_type": "execute_result"
    }
   ],
   "source": [
    "dt_model = DecisionTreeRegressor()\n",
    "parameters = {'max_depth': [2, 4, 6, 8, 10, 12, 14, 16, 18, 20, 22, 24], 'min_samples_leaf': [5, 10, 20, 50, 60, 70, 80]}\n",
    "clf = RandomizedSearchCV(dt_model, parameters, cv=3, n_jobs=-1, return_train_score=True)\n",
    "clf.fit(X_train,y_train)"
   ]
  },
  {
   "cell_type": "code",
   "execution_count": 54,
   "metadata": {},
   "outputs": [
    {
     "data": {
      "text/html": [
       "<div>\n",
       "<style scoped>\n",
       "    .dataframe tbody tr th:only-of-type {\n",
       "        vertical-align: middle;\n",
       "    }\n",
       "\n",
       "    .dataframe tbody tr th {\n",
       "        vertical-align: top;\n",
       "    }\n",
       "\n",
       "    .dataframe thead th {\n",
       "        text-align: right;\n",
       "    }\n",
       "</style>\n",
       "<table border=\"1\" class=\"dataframe\">\n",
       "  <thead>\n",
       "    <tr style=\"text-align: right;\">\n",
       "      <th></th>\n",
       "      <th>mean_fit_time</th>\n",
       "      <th>std_fit_time</th>\n",
       "      <th>mean_score_time</th>\n",
       "      <th>std_score_time</th>\n",
       "      <th>param_min_samples_leaf</th>\n",
       "      <th>param_max_depth</th>\n",
       "      <th>params</th>\n",
       "      <th>split0_test_score</th>\n",
       "      <th>split1_test_score</th>\n",
       "      <th>split2_test_score</th>\n",
       "      <th>mean_test_score</th>\n",
       "      <th>std_test_score</th>\n",
       "      <th>rank_test_score</th>\n",
       "      <th>split0_train_score</th>\n",
       "      <th>split1_train_score</th>\n",
       "      <th>split2_train_score</th>\n",
       "      <th>mean_train_score</th>\n",
       "      <th>std_train_score</th>\n",
       "    </tr>\n",
       "  </thead>\n",
       "  <tbody>\n",
       "    <tr>\n",
       "      <th>0</th>\n",
       "      <td>6.137046</td>\n",
       "      <td>0.061112</td>\n",
       "      <td>0.071949</td>\n",
       "      <td>0.009471</td>\n",
       "      <td>10</td>\n",
       "      <td>16</td>\n",
       "      <td>{'min_samples_leaf': 10, 'max_depth': 16}</td>\n",
       "      <td>0.949916</td>\n",
       "      <td>0.954380</td>\n",
       "      <td>0.949980</td>\n",
       "      <td>0.951425</td>\n",
       "      <td>0.002090</td>\n",
       "      <td>3</td>\n",
       "      <td>0.967008</td>\n",
       "      <td>0.966971</td>\n",
       "      <td>0.967778</td>\n",
       "      <td>0.967253</td>\n",
       "      <td>0.000372</td>\n",
       "    </tr>\n",
       "    <tr>\n",
       "      <th>1</th>\n",
       "      <td>2.464724</td>\n",
       "      <td>0.079846</td>\n",
       "      <td>0.060887</td>\n",
       "      <td>0.020621</td>\n",
       "      <td>80</td>\n",
       "      <td>6</td>\n",
       "      <td>{'min_samples_leaf': 80, 'max_depth': 6}</td>\n",
       "      <td>0.703024</td>\n",
       "      <td>0.706514</td>\n",
       "      <td>0.702259</td>\n",
       "      <td>0.703932</td>\n",
       "      <td>0.001852</td>\n",
       "      <td>10</td>\n",
       "      <td>0.704929</td>\n",
       "      <td>0.703095</td>\n",
       "      <td>0.705262</td>\n",
       "      <td>0.704428</td>\n",
       "      <td>0.000953</td>\n",
       "    </tr>\n",
       "    <tr>\n",
       "      <th>2</th>\n",
       "      <td>4.617889</td>\n",
       "      <td>0.037820</td>\n",
       "      <td>0.071840</td>\n",
       "      <td>0.004079</td>\n",
       "      <td>70</td>\n",
       "      <td>12</td>\n",
       "      <td>{'min_samples_leaf': 70, 'max_depth': 12}</td>\n",
       "      <td>0.891551</td>\n",
       "      <td>0.895063</td>\n",
       "      <td>0.891454</td>\n",
       "      <td>0.892689</td>\n",
       "      <td>0.001679</td>\n",
       "      <td>9</td>\n",
       "      <td>0.898880</td>\n",
       "      <td>0.899147</td>\n",
       "      <td>0.896486</td>\n",
       "      <td>0.898171</td>\n",
       "      <td>0.001197</td>\n",
       "    </tr>\n",
       "    <tr>\n",
       "      <th>3</th>\n",
       "      <td>6.379871</td>\n",
       "      <td>0.092344</td>\n",
       "      <td>0.071586</td>\n",
       "      <td>0.001343</td>\n",
       "      <td>10</td>\n",
       "      <td>18</td>\n",
       "      <td>{'min_samples_leaf': 10, 'max_depth': 18}</td>\n",
       "      <td>0.953105</td>\n",
       "      <td>0.957124</td>\n",
       "      <td>0.952868</td>\n",
       "      <td>0.954366</td>\n",
       "      <td>0.001952</td>\n",
       "      <td>2</td>\n",
       "      <td>0.971889</td>\n",
       "      <td>0.971347</td>\n",
       "      <td>0.971823</td>\n",
       "      <td>0.971686</td>\n",
       "      <td>0.000242</td>\n",
       "    </tr>\n",
       "    <tr>\n",
       "      <th>4</th>\n",
       "      <td>4.975318</td>\n",
       "      <td>0.057883</td>\n",
       "      <td>0.051898</td>\n",
       "      <td>0.009629</td>\n",
       "      <td>70</td>\n",
       "      <td>14</td>\n",
       "      <td>{'min_samples_leaf': 70, 'max_depth': 14}</td>\n",
       "      <td>0.904731</td>\n",
       "      <td>0.908558</td>\n",
       "      <td>0.903838</td>\n",
       "      <td>0.905709</td>\n",
       "      <td>0.002047</td>\n",
       "      <td>7</td>\n",
       "      <td>0.913189</td>\n",
       "      <td>0.912914</td>\n",
       "      <td>0.909460</td>\n",
       "      <td>0.911854</td>\n",
       "      <td>0.001697</td>\n",
       "    </tr>\n",
       "    <tr>\n",
       "      <th>5</th>\n",
       "      <td>5.355738</td>\n",
       "      <td>0.054817</td>\n",
       "      <td>0.065971</td>\n",
       "      <td>0.003717</td>\n",
       "      <td>70</td>\n",
       "      <td>22</td>\n",
       "      <td>{'min_samples_leaf': 70, 'max_depth': 22}</td>\n",
       "      <td>0.909907</td>\n",
       "      <td>0.914455</td>\n",
       "      <td>0.909334</td>\n",
       "      <td>0.911232</td>\n",
       "      <td>0.002291</td>\n",
       "      <td>6</td>\n",
       "      <td>0.919064</td>\n",
       "      <td>0.918866</td>\n",
       "      <td>0.915200</td>\n",
       "      <td>0.917710</td>\n",
       "      <td>0.001776</td>\n",
       "    </tr>\n",
       "    <tr>\n",
       "      <th>6</th>\n",
       "      <td>6.308040</td>\n",
       "      <td>0.036465</td>\n",
       "      <td>0.070656</td>\n",
       "      <td>0.012416</td>\n",
       "      <td>20</td>\n",
       "      <td>24</td>\n",
       "      <td>{'min_samples_leaf': 20, 'max_depth': 24}</td>\n",
       "      <td>0.948939</td>\n",
       "      <td>0.956861</td>\n",
       "      <td>0.945978</td>\n",
       "      <td>0.950593</td>\n",
       "      <td>0.004594</td>\n",
       "      <td>4</td>\n",
       "      <td>0.962264</td>\n",
       "      <td>0.961069</td>\n",
       "      <td>0.959244</td>\n",
       "      <td>0.960859</td>\n",
       "      <td>0.001242</td>\n",
       "    </tr>\n",
       "    <tr>\n",
       "      <th>7</th>\n",
       "      <td>5.674534</td>\n",
       "      <td>0.020851</td>\n",
       "      <td>0.065888</td>\n",
       "      <td>0.004394</td>\n",
       "      <td>60</td>\n",
       "      <td>20</td>\n",
       "      <td>{'min_samples_leaf': 60, 'max_depth': 20}</td>\n",
       "      <td>0.921510</td>\n",
       "      <td>0.923953</td>\n",
       "      <td>0.917096</td>\n",
       "      <td>0.920853</td>\n",
       "      <td>0.002838</td>\n",
       "      <td>5</td>\n",
       "      <td>0.930853</td>\n",
       "      <td>0.927705</td>\n",
       "      <td>0.926800</td>\n",
       "      <td>0.928453</td>\n",
       "      <td>0.001737</td>\n",
       "    </tr>\n",
       "    <tr>\n",
       "      <th>8</th>\n",
       "      <td>6.748759</td>\n",
       "      <td>0.156375</td>\n",
       "      <td>0.082106</td>\n",
       "      <td>0.009948</td>\n",
       "      <td>5</td>\n",
       "      <td>20</td>\n",
       "      <td>{'min_samples_leaf': 5, 'max_depth': 20}</td>\n",
       "      <td>0.952893</td>\n",
       "      <td>0.959531</td>\n",
       "      <td>0.953606</td>\n",
       "      <td>0.955343</td>\n",
       "      <td>0.002976</td>\n",
       "      <td>1</td>\n",
       "      <td>0.982844</td>\n",
       "      <td>0.982942</td>\n",
       "      <td>0.983171</td>\n",
       "      <td>0.982986</td>\n",
       "      <td>0.000137</td>\n",
       "    </tr>\n",
       "    <tr>\n",
       "      <th>9</th>\n",
       "      <td>4.005165</td>\n",
       "      <td>0.300561</td>\n",
       "      <td>0.047530</td>\n",
       "      <td>0.011274</td>\n",
       "      <td>50</td>\n",
       "      <td>12</td>\n",
       "      <td>{'min_samples_leaf': 50, 'max_depth': 12}</td>\n",
       "      <td>0.902636</td>\n",
       "      <td>0.906093</td>\n",
       "      <td>0.899284</td>\n",
       "      <td>0.902671</td>\n",
       "      <td>0.002780</td>\n",
       "      <td>8</td>\n",
       "      <td>0.909785</td>\n",
       "      <td>0.912466</td>\n",
       "      <td>0.907685</td>\n",
       "      <td>0.909979</td>\n",
       "      <td>0.001957</td>\n",
       "    </tr>\n",
       "  </tbody>\n",
       "</table>\n",
       "</div>"
      ],
      "text/plain": [
       "   mean_fit_time  std_fit_time  mean_score_time  std_score_time  \\\n",
       "0       6.137046      0.061112         0.071949        0.009471   \n",
       "1       2.464724      0.079846         0.060887        0.020621   \n",
       "2       4.617889      0.037820         0.071840        0.004079   \n",
       "3       6.379871      0.092344         0.071586        0.001343   \n",
       "4       4.975318      0.057883         0.051898        0.009629   \n",
       "5       5.355738      0.054817         0.065971        0.003717   \n",
       "6       6.308040      0.036465         0.070656        0.012416   \n",
       "7       5.674534      0.020851         0.065888        0.004394   \n",
       "8       6.748759      0.156375         0.082106        0.009948   \n",
       "9       4.005165      0.300561         0.047530        0.011274   \n",
       "\n",
       "  param_min_samples_leaf param_max_depth  \\\n",
       "0                     10              16   \n",
       "1                     80               6   \n",
       "2                     70              12   \n",
       "3                     10              18   \n",
       "4                     70              14   \n",
       "5                     70              22   \n",
       "6                     20              24   \n",
       "7                     60              20   \n",
       "8                      5              20   \n",
       "9                     50              12   \n",
       "\n",
       "                                      params  split0_test_score  \\\n",
       "0  {'min_samples_leaf': 10, 'max_depth': 16}           0.949916   \n",
       "1   {'min_samples_leaf': 80, 'max_depth': 6}           0.703024   \n",
       "2  {'min_samples_leaf': 70, 'max_depth': 12}           0.891551   \n",
       "3  {'min_samples_leaf': 10, 'max_depth': 18}           0.953105   \n",
       "4  {'min_samples_leaf': 70, 'max_depth': 14}           0.904731   \n",
       "5  {'min_samples_leaf': 70, 'max_depth': 22}           0.909907   \n",
       "6  {'min_samples_leaf': 20, 'max_depth': 24}           0.948939   \n",
       "7  {'min_samples_leaf': 60, 'max_depth': 20}           0.921510   \n",
       "8   {'min_samples_leaf': 5, 'max_depth': 20}           0.952893   \n",
       "9  {'min_samples_leaf': 50, 'max_depth': 12}           0.902636   \n",
       "\n",
       "   split1_test_score  split2_test_score  mean_test_score  std_test_score  \\\n",
       "0           0.954380           0.949980         0.951425        0.002090   \n",
       "1           0.706514           0.702259         0.703932        0.001852   \n",
       "2           0.895063           0.891454         0.892689        0.001679   \n",
       "3           0.957124           0.952868         0.954366        0.001952   \n",
       "4           0.908558           0.903838         0.905709        0.002047   \n",
       "5           0.914455           0.909334         0.911232        0.002291   \n",
       "6           0.956861           0.945978         0.950593        0.004594   \n",
       "7           0.923953           0.917096         0.920853        0.002838   \n",
       "8           0.959531           0.953606         0.955343        0.002976   \n",
       "9           0.906093           0.899284         0.902671        0.002780   \n",
       "\n",
       "   rank_test_score  split0_train_score  split1_train_score  \\\n",
       "0                3            0.967008            0.966971   \n",
       "1               10            0.704929            0.703095   \n",
       "2                9            0.898880            0.899147   \n",
       "3                2            0.971889            0.971347   \n",
       "4                7            0.913189            0.912914   \n",
       "5                6            0.919064            0.918866   \n",
       "6                4            0.962264            0.961069   \n",
       "7                5            0.930853            0.927705   \n",
       "8                1            0.982844            0.982942   \n",
       "9                8            0.909785            0.912466   \n",
       "\n",
       "   split2_train_score  mean_train_score  std_train_score  \n",
       "0            0.967778          0.967253         0.000372  \n",
       "1            0.705262          0.704428         0.000953  \n",
       "2            0.896486          0.898171         0.001197  \n",
       "3            0.971823          0.971686         0.000242  \n",
       "4            0.909460          0.911854         0.001697  \n",
       "5            0.915200          0.917710         0.001776  \n",
       "6            0.959244          0.960859         0.001242  \n",
       "7            0.926800          0.928453         0.001737  \n",
       "8            0.983171          0.982986         0.000137  \n",
       "9            0.907685          0.909979         0.001957  "
      ]
     },
     "execution_count": 54,
     "metadata": {},
     "output_type": "execute_result"
    }
   ],
   "source": [
    "results = pd.DataFrame.from_dict(clf.cv_results_)\n",
    "results"
   ]
  },
  {
   "cell_type": "code",
   "execution_count": 55,
   "metadata": {},
   "outputs": [
    {
     "data": {
      "text/plain": [
       "{'min_samples_leaf': 5, 'max_depth': 20}"
      ]
     },
     "execution_count": 55,
     "metadata": {},
     "output_type": "execute_result"
    }
   ],
   "source": [
    "clf.best_params_"
   ]
  },
  {
   "cell_type": "code",
   "execution_count": 56,
   "metadata": {},
   "outputs": [
    {
     "name": "stdout",
     "output_type": "stream",
     "text": [
      "1246.740233168148\n",
      "1874.1961765436438\n"
     ]
    }
   ],
   "source": [
    "dt_model = DecisionTreeRegressor(max_depth=20, min_samples_leaf=5)\n",
    "dt_model.fit(X_train_top_15, y_train)\n",
    "predicted_train_y_dt = dt_model.predict(X_train_top_15)\n",
    "predicted_test_y_dt = dt_model.predict(X_test_top_15)\n",
    "\n",
    "wmae_train_score = WMAE(X_train_top_15, y_train, predicted_train_y_dt)\n",
    "wmae_test_score = WMAE(X_test_top_15, y_test, predicted_test_y_dt)\n",
    "\n",
    "print(wmae_train_score)\n",
    "print(wmae_test_score)"
   ]
  },
  {
   "cell_type": "markdown",
   "metadata": {},
   "source": [
    "### Using top 15 features"
   ]
  },
  {
   "cell_type": "code",
   "execution_count": 57,
   "metadata": {},
   "outputs": [
    {
     "name": "stdout",
     "output_type": "stream",
     "text": [
      "1246.7402863078435\n",
      "1872.8570442435794\n"
     ]
    }
   ],
   "source": [
    "model1 = DecisionTreeRegressor(max_depth=20, min_samples_leaf=5)\n",
    "model1.fit(X_train_top_15, y_train)\n",
    "predicted_train_y_xg = model1.predict(X_train_top_15)\n",
    "predicted_test_y_xg = model1.predict(X_test_top_15)\n",
    "\n",
    "wmae_train_score = WMAE(X_train_top_15, y_train, predicted_train_y_xg)\n",
    "wmae_test_score = WMAE(X_test_top_15, y_test, predicted_test_y_xg)\n",
    "\n",
    "print(wmae_train_score)\n",
    "print(wmae_test_score)"
   ]
  },
  {
   "cell_type": "markdown",
   "metadata": {},
   "source": [
    "### Using top 10 features"
   ]
  },
  {
   "cell_type": "code",
   "execution_count": 58,
   "metadata": {},
   "outputs": [
    {
     "name": "stdout",
     "output_type": "stream",
     "text": [
      "1380.9567359227124\n",
      "1923.7712081401228\n"
     ]
    }
   ],
   "source": [
    "model1 = DecisionTreeRegressor(max_depth=20, min_samples_leaf=5)\n",
    "model1.fit(X_train_top_10, y_train)\n",
    "predicted_train_y_xg = model1.predict(X_train_top_10)\n",
    "predicted_test_y_xg = model1.predict(X_test_top_10)\n",
    "\n",
    "wmae_train_score = WMAE(X_train_top_10, y_train, predicted_train_y_xg)\n",
    "wmae_test_score = WMAE(X_test_top_10, y_test, predicted_test_y_xg)\n",
    "\n",
    "print(wmae_train_score)\n",
    "print(wmae_test_score)"
   ]
  },
  {
   "cell_type": "markdown",
   "metadata": {},
   "source": [
    "### Using filtered features"
   ]
  },
  {
   "cell_type": "code",
   "execution_count": 52,
   "metadata": {},
   "outputs": [
    {
     "name": "stdout",
     "output_type": "stream",
     "text": [
      "1366.044299612273\n",
      "1837.371056278631\n"
     ]
    }
   ],
   "source": [
    "model1 = DecisionTreeRegressor(max_depth=20, min_samples_leaf=5)\n",
    "\n",
    "model1.fit(X_train_1, y_train)\n",
    "\n",
    "predicted_train_y = model1.predict(X_train_1)\n",
    "predicted_test_y = model1.predict(X_test_1)\n",
    "\n",
    "wmae_train_score = WMAE(X_train_1, y_train, predicted_train_y)\n",
    "wmae_test_score = WMAE(X_test_1, y_test, predicted_test_y)\n",
    "\n",
    "print(wmae_train_score)\n",
    "print(wmae_test_score)"
   ]
  },
  {
   "cell_type": "markdown",
   "metadata": {},
   "source": [
    "## LightGBM"
   ]
  },
  {
   "cell_type": "markdown",
   "metadata": {},
   "source": [
    "### Using all features"
   ]
  },
  {
   "cell_type": "code",
   "execution_count": 49,
   "metadata": {},
   "outputs": [],
   "source": [
    "from lightgbm import LGBMRegressor"
   ]
  },
  {
   "cell_type": "code",
   "execution_count": 25,
   "metadata": {},
   "outputs": [
    {
     "data": {
      "text/plain": [
       "RandomizedSearchCV(cv=3, estimator=LGBMRegressor(), n_jobs=-1,\n",
       "                   param_distributions={'learning_rate': [0.05, 0.1, 0.2, 0.4,\n",
       "                                                          0.6, 0.8, 0.9, 1],\n",
       "                                        'max_depth': [10, 20, 25, 30, 35, 40,\n",
       "                                                      45, 50],\n",
       "                                        'n_estimators': [1000, 1500, 2000, 2500,\n",
       "                                                         3000, 3500, 4000, 4500,\n",
       "                                                         5000, 5500]},\n",
       "                   return_train_score=True)"
      ]
     },
     "execution_count": 25,
     "metadata": {},
     "output_type": "execute_result"
    }
   ],
   "source": [
    "lgb = LGBMRegressor()\n",
    "parameters = {'learning_rate':[0.05,0.1,0.2,0.4,0.6,0.8,0.9,1],\n",
    "              'n_estimators':[1000,1500,2000,2500,3000,3500, 4000, 4500, 5000, 5500],\n",
    "              'max_depth':[10, 20, 25, 30, 35, 40, 45, 50]}\n",
    "clf = RandomizedSearchCV(lgb, parameters, cv=3, n_jobs=-1, return_train_score=True)\n",
    "clf.fit(X_train,y_train)"
   ]
  },
  {
   "cell_type": "code",
   "execution_count": 26,
   "metadata": {},
   "outputs": [
    {
     "data": {
      "text/html": [
       "<div>\n",
       "<style scoped>\n",
       "    .dataframe tbody tr th:only-of-type {\n",
       "        vertical-align: middle;\n",
       "    }\n",
       "\n",
       "    .dataframe tbody tr th {\n",
       "        vertical-align: top;\n",
       "    }\n",
       "\n",
       "    .dataframe thead th {\n",
       "        text-align: right;\n",
       "    }\n",
       "</style>\n",
       "<table border=\"1\" class=\"dataframe\">\n",
       "  <thead>\n",
       "    <tr style=\"text-align: right;\">\n",
       "      <th></th>\n",
       "      <th>mean_fit_time</th>\n",
       "      <th>std_fit_time</th>\n",
       "      <th>mean_score_time</th>\n",
       "      <th>std_score_time</th>\n",
       "      <th>param_n_estimators</th>\n",
       "      <th>param_max_depth</th>\n",
       "      <th>param_learning_rate</th>\n",
       "      <th>params</th>\n",
       "      <th>split0_test_score</th>\n",
       "      <th>split1_test_score</th>\n",
       "      <th>split2_test_score</th>\n",
       "      <th>mean_test_score</th>\n",
       "      <th>std_test_score</th>\n",
       "      <th>rank_test_score</th>\n",
       "      <th>split0_train_score</th>\n",
       "      <th>split1_train_score</th>\n",
       "      <th>split2_train_score</th>\n",
       "      <th>mean_train_score</th>\n",
       "      <th>std_train_score</th>\n",
       "    </tr>\n",
       "  </thead>\n",
       "  <tbody>\n",
       "    <tr>\n",
       "      <th>0</th>\n",
       "      <td>215.246559</td>\n",
       "      <td>7.737034</td>\n",
       "      <td>163.262813</td>\n",
       "      <td>4.312923</td>\n",
       "      <td>4000</td>\n",
       "      <td>35</td>\n",
       "      <td>0.4</td>\n",
       "      <td>{'n_estimators': 4000, 'max_depth': 35, 'learn...</td>\n",
       "      <td>0.975981</td>\n",
       "      <td>0.979445</td>\n",
       "      <td>0.976725</td>\n",
       "      <td>0.977384</td>\n",
       "      <td>0.001489</td>\n",
       "      <td>3</td>\n",
       "      <td>0.997150</td>\n",
       "      <td>0.997179</td>\n",
       "      <td>0.997116</td>\n",
       "      <td>0.997148</td>\n",
       "      <td>0.000026</td>\n",
       "    </tr>\n",
       "    <tr>\n",
       "      <th>1</th>\n",
       "      <td>266.784028</td>\n",
       "      <td>9.722050</td>\n",
       "      <td>211.605802</td>\n",
       "      <td>6.375894</td>\n",
       "      <td>5000</td>\n",
       "      <td>35</td>\n",
       "      <td>0.2</td>\n",
       "      <td>{'n_estimators': 5000, 'max_depth': 35, 'learn...</td>\n",
       "      <td>0.978150</td>\n",
       "      <td>0.982526</td>\n",
       "      <td>0.980351</td>\n",
       "      <td>0.980342</td>\n",
       "      <td>0.001787</td>\n",
       "      <td>1</td>\n",
       "      <td>0.996129</td>\n",
       "      <td>0.996267</td>\n",
       "      <td>0.996177</td>\n",
       "      <td>0.996191</td>\n",
       "      <td>0.000057</td>\n",
       "    </tr>\n",
       "    <tr>\n",
       "      <th>2</th>\n",
       "      <td>181.304310</td>\n",
       "      <td>0.070137</td>\n",
       "      <td>120.501982</td>\n",
       "      <td>23.793307</td>\n",
       "      <td>3500</td>\n",
       "      <td>50</td>\n",
       "      <td>0.8</td>\n",
       "      <td>{'n_estimators': 3500, 'max_depth': 50, 'learn...</td>\n",
       "      <td>0.966343</td>\n",
       "      <td>0.970613</td>\n",
       "      <td>0.968696</td>\n",
       "      <td>0.968551</td>\n",
       "      <td>0.001746</td>\n",
       "      <td>6</td>\n",
       "      <td>0.997438</td>\n",
       "      <td>0.997471</td>\n",
       "      <td>0.997417</td>\n",
       "      <td>0.997442</td>\n",
       "      <td>0.000022</td>\n",
       "    </tr>\n",
       "    <tr>\n",
       "      <th>3</th>\n",
       "      <td>133.734575</td>\n",
       "      <td>1.270703</td>\n",
       "      <td>85.848535</td>\n",
       "      <td>14.440890</td>\n",
       "      <td>2500</td>\n",
       "      <td>30</td>\n",
       "      <td>0.9</td>\n",
       "      <td>{'n_estimators': 2500, 'max_depth': 30, 'learn...</td>\n",
       "      <td>0.962707</td>\n",
       "      <td>0.967387</td>\n",
       "      <td>0.965848</td>\n",
       "      <td>0.965314</td>\n",
       "      <td>0.001947</td>\n",
       "      <td>9</td>\n",
       "      <td>0.995972</td>\n",
       "      <td>0.996241</td>\n",
       "      <td>0.996013</td>\n",
       "      <td>0.996076</td>\n",
       "      <td>0.000119</td>\n",
       "    </tr>\n",
       "    <tr>\n",
       "      <th>4</th>\n",
       "      <td>186.118239</td>\n",
       "      <td>1.011334</td>\n",
       "      <td>112.175626</td>\n",
       "      <td>14.870098</td>\n",
       "      <td>3500</td>\n",
       "      <td>50</td>\n",
       "      <td>0.9</td>\n",
       "      <td>{'n_estimators': 3500, 'max_depth': 50, 'learn...</td>\n",
       "      <td>0.962777</td>\n",
       "      <td>0.967350</td>\n",
       "      <td>0.965824</td>\n",
       "      <td>0.965317</td>\n",
       "      <td>0.001901</td>\n",
       "      <td>8</td>\n",
       "      <td>0.997348</td>\n",
       "      <td>0.997501</td>\n",
       "      <td>0.997348</td>\n",
       "      <td>0.997399</td>\n",
       "      <td>0.000072</td>\n",
       "    </tr>\n",
       "    <tr>\n",
       "      <th>5</th>\n",
       "      <td>281.355585</td>\n",
       "      <td>2.158725</td>\n",
       "      <td>220.980690</td>\n",
       "      <td>3.834198</td>\n",
       "      <td>5500</td>\n",
       "      <td>40</td>\n",
       "      <td>0.9</td>\n",
       "      <td>{'n_estimators': 5500, 'max_depth': 40, 'learn...</td>\n",
       "      <td>0.962822</td>\n",
       "      <td>0.967354</td>\n",
       "      <td>0.965764</td>\n",
       "      <td>0.965313</td>\n",
       "      <td>0.001878</td>\n",
       "      <td>10</td>\n",
       "      <td>0.998631</td>\n",
       "      <td>0.998702</td>\n",
       "      <td>0.998630</td>\n",
       "      <td>0.998654</td>\n",
       "      <td>0.000033</td>\n",
       "    </tr>\n",
       "    <tr>\n",
       "      <th>6</th>\n",
       "      <td>131.187912</td>\n",
       "      <td>3.210882</td>\n",
       "      <td>86.796030</td>\n",
       "      <td>9.605973</td>\n",
       "      <td>2500</td>\n",
       "      <td>50</td>\n",
       "      <td>0.8</td>\n",
       "      <td>{'n_estimators': 2500, 'max_depth': 50, 'learn...</td>\n",
       "      <td>0.966365</td>\n",
       "      <td>0.970460</td>\n",
       "      <td>0.968526</td>\n",
       "      <td>0.968450</td>\n",
       "      <td>0.001673</td>\n",
       "      <td>7</td>\n",
       "      <td>0.996207</td>\n",
       "      <td>0.996231</td>\n",
       "      <td>0.996164</td>\n",
       "      <td>0.996200</td>\n",
       "      <td>0.000028</td>\n",
       "    </tr>\n",
       "    <tr>\n",
       "      <th>7</th>\n",
       "      <td>283.121810</td>\n",
       "      <td>0.420064</td>\n",
       "      <td>230.497192</td>\n",
       "      <td>6.406375</td>\n",
       "      <td>5500</td>\n",
       "      <td>10</td>\n",
       "      <td>0.6</td>\n",
       "      <td>{'n_estimators': 5500, 'max_depth': 10, 'learn...</td>\n",
       "      <td>0.972102</td>\n",
       "      <td>0.975891</td>\n",
       "      <td>0.974888</td>\n",
       "      <td>0.974293</td>\n",
       "      <td>0.001603</td>\n",
       "      <td>5</td>\n",
       "      <td>0.998301</td>\n",
       "      <td>0.998427</td>\n",
       "      <td>0.998380</td>\n",
       "      <td>0.998369</td>\n",
       "      <td>0.000052</td>\n",
       "    </tr>\n",
       "    <tr>\n",
       "      <th>8</th>\n",
       "      <td>260.840468</td>\n",
       "      <td>0.986761</td>\n",
       "      <td>201.229384</td>\n",
       "      <td>12.278226</td>\n",
       "      <td>5000</td>\n",
       "      <td>45</td>\n",
       "      <td>0.2</td>\n",
       "      <td>{'n_estimators': 5000, 'max_depth': 45, 'learn...</td>\n",
       "      <td>0.978150</td>\n",
       "      <td>0.982526</td>\n",
       "      <td>0.980351</td>\n",
       "      <td>0.980342</td>\n",
       "      <td>0.001787</td>\n",
       "      <td>1</td>\n",
       "      <td>0.996129</td>\n",
       "      <td>0.996267</td>\n",
       "      <td>0.996177</td>\n",
       "      <td>0.996191</td>\n",
       "      <td>0.000057</td>\n",
       "    </tr>\n",
       "    <tr>\n",
       "      <th>9</th>\n",
       "      <td>126.847659</td>\n",
       "      <td>9.009055</td>\n",
       "      <td>62.612458</td>\n",
       "      <td>3.537797</td>\n",
       "      <td>2500</td>\n",
       "      <td>20</td>\n",
       "      <td>0.4</td>\n",
       "      <td>{'n_estimators': 2500, 'max_depth': 20, 'learn...</td>\n",
       "      <td>0.975477</td>\n",
       "      <td>0.978967</td>\n",
       "      <td>0.976166</td>\n",
       "      <td>0.976870</td>\n",
       "      <td>0.001509</td>\n",
       "      <td>4</td>\n",
       "      <td>0.995495</td>\n",
       "      <td>0.995271</td>\n",
       "      <td>0.995429</td>\n",
       "      <td>0.995398</td>\n",
       "      <td>0.000094</td>\n",
       "    </tr>\n",
       "  </tbody>\n",
       "</table>\n",
       "</div>"
      ],
      "text/plain": [
       "   mean_fit_time  std_fit_time  mean_score_time  std_score_time  \\\n",
       "0     215.246559      7.737034       163.262813        4.312923   \n",
       "1     266.784028      9.722050       211.605802        6.375894   \n",
       "2     181.304310      0.070137       120.501982       23.793307   \n",
       "3     133.734575      1.270703        85.848535       14.440890   \n",
       "4     186.118239      1.011334       112.175626       14.870098   \n",
       "5     281.355585      2.158725       220.980690        3.834198   \n",
       "6     131.187912      3.210882        86.796030        9.605973   \n",
       "7     283.121810      0.420064       230.497192        6.406375   \n",
       "8     260.840468      0.986761       201.229384       12.278226   \n",
       "9     126.847659      9.009055        62.612458        3.537797   \n",
       "\n",
       "  param_n_estimators param_max_depth param_learning_rate  \\\n",
       "0               4000              35                 0.4   \n",
       "1               5000              35                 0.2   \n",
       "2               3500              50                 0.8   \n",
       "3               2500              30                 0.9   \n",
       "4               3500              50                 0.9   \n",
       "5               5500              40                 0.9   \n",
       "6               2500              50                 0.8   \n",
       "7               5500              10                 0.6   \n",
       "8               5000              45                 0.2   \n",
       "9               2500              20                 0.4   \n",
       "\n",
       "                                              params  split0_test_score  \\\n",
       "0  {'n_estimators': 4000, 'max_depth': 35, 'learn...           0.975981   \n",
       "1  {'n_estimators': 5000, 'max_depth': 35, 'learn...           0.978150   \n",
       "2  {'n_estimators': 3500, 'max_depth': 50, 'learn...           0.966343   \n",
       "3  {'n_estimators': 2500, 'max_depth': 30, 'learn...           0.962707   \n",
       "4  {'n_estimators': 3500, 'max_depth': 50, 'learn...           0.962777   \n",
       "5  {'n_estimators': 5500, 'max_depth': 40, 'learn...           0.962822   \n",
       "6  {'n_estimators': 2500, 'max_depth': 50, 'learn...           0.966365   \n",
       "7  {'n_estimators': 5500, 'max_depth': 10, 'learn...           0.972102   \n",
       "8  {'n_estimators': 5000, 'max_depth': 45, 'learn...           0.978150   \n",
       "9  {'n_estimators': 2500, 'max_depth': 20, 'learn...           0.975477   \n",
       "\n",
       "   split1_test_score  split2_test_score  mean_test_score  std_test_score  \\\n",
       "0           0.979445           0.976725         0.977384        0.001489   \n",
       "1           0.982526           0.980351         0.980342        0.001787   \n",
       "2           0.970613           0.968696         0.968551        0.001746   \n",
       "3           0.967387           0.965848         0.965314        0.001947   \n",
       "4           0.967350           0.965824         0.965317        0.001901   \n",
       "5           0.967354           0.965764         0.965313        0.001878   \n",
       "6           0.970460           0.968526         0.968450        0.001673   \n",
       "7           0.975891           0.974888         0.974293        0.001603   \n",
       "8           0.982526           0.980351         0.980342        0.001787   \n",
       "9           0.978967           0.976166         0.976870        0.001509   \n",
       "\n",
       "   rank_test_score  split0_train_score  split1_train_score  \\\n",
       "0                3            0.997150            0.997179   \n",
       "1                1            0.996129            0.996267   \n",
       "2                6            0.997438            0.997471   \n",
       "3                9            0.995972            0.996241   \n",
       "4                8            0.997348            0.997501   \n",
       "5               10            0.998631            0.998702   \n",
       "6                7            0.996207            0.996231   \n",
       "7                5            0.998301            0.998427   \n",
       "8                1            0.996129            0.996267   \n",
       "9                4            0.995495            0.995271   \n",
       "\n",
       "   split2_train_score  mean_train_score  std_train_score  \n",
       "0            0.997116          0.997148         0.000026  \n",
       "1            0.996177          0.996191         0.000057  \n",
       "2            0.997417          0.997442         0.000022  \n",
       "3            0.996013          0.996076         0.000119  \n",
       "4            0.997348          0.997399         0.000072  \n",
       "5            0.998630          0.998654         0.000033  \n",
       "6            0.996164          0.996200         0.000028  \n",
       "7            0.998380          0.998369         0.000052  \n",
       "8            0.996177          0.996191         0.000057  \n",
       "9            0.995429          0.995398         0.000094  "
      ]
     },
     "execution_count": 26,
     "metadata": {},
     "output_type": "execute_result"
    }
   ],
   "source": [
    "results = pd.DataFrame.from_dict(clf.cv_results_)\n",
    "results"
   ]
  },
  {
   "cell_type": "code",
   "execution_count": 27,
   "metadata": {},
   "outputs": [
    {
     "data": {
      "text/plain": [
       "{'n_estimators': 5000, 'max_depth': 35, 'learning_rate': 0.2}"
      ]
     },
     "execution_count": 27,
     "metadata": {},
     "output_type": "execute_result"
    }
   ],
   "source": [
    "clf.best_params_"
   ]
  },
  {
   "cell_type": "code",
   "execution_count": 34,
   "metadata": {},
   "outputs": [
    {
     "name": "stdout",
     "output_type": "stream",
     "text": [
      "950.5435732228202\n",
      "1540.4594370930226\n"
     ]
    }
   ],
   "source": [
    "model1 = LGBMRegressor(learning_rate=0.2, n_estimators=5000, max_depth=35, n_jobs=-1)\n",
    "model1.fit(X_train, y_train)\n",
    "predicted_train_y_lg = model1.predict(X_train)\n",
    "predicted_test_y_lg = model1.predict(X_test)\n",
    "\n",
    "wmae_train_score = WMAE(X_train, y_train, predicted_train_y_lg)\n",
    "wmae_test_score = WMAE(X_test, y_test, predicted_test_y_lg)\n",
    "\n",
    "print(wmae_train_score)\n",
    "print(wmae_test_score)"
   ]
  },
  {
   "cell_type": "markdown",
   "metadata": {},
   "source": [
    "### Using top 15 features"
   ]
  },
  {
   "cell_type": "code",
   "execution_count": 35,
   "metadata": {},
   "outputs": [
    {
     "name": "stdout",
     "output_type": "stream",
     "text": [
      "943.3189612909164\n",
      "1477.9503448090663\n"
     ]
    }
   ],
   "source": [
    "model2 = LGBMRegressor(learning_rate=0.2, n_estimators=5000, max_depth=25, n_jobs=-1)\n",
    "model2.fit(X_train_top_15, y_train)\n",
    "predicted_train_y_lg = model2.predict(X_train_top_15)\n",
    "predicted_test_y_lg = model2.predict(X_test_top_15)\n",
    "\n",
    "wmae_train_score = WMAE(X_train_top_15, y_train, predicted_train_y_lg)\n",
    "wmae_test_score = WMAE(X_test_top_15, y_test, predicted_test_y_lg)\n",
    "\n",
    "print(wmae_train_score)\n",
    "print(wmae_test_score)"
   ]
  },
  {
   "cell_type": "markdown",
   "metadata": {},
   "source": [
    "### Using top 10 features"
   ]
  },
  {
   "cell_type": "code",
   "execution_count": 38,
   "metadata": {},
   "outputs": [
    {
     "name": "stdout",
     "output_type": "stream",
     "text": [
      "1052.3838054513385\n",
      "1516.137527273821\n"
     ]
    }
   ],
   "source": [
    "model3 = LGBMRegressor(learning_rate=0.2, n_estimators=5000, max_depth=35, n_jobs=-1)\n",
    "model3.fit(X_train_top_10, y_train)\n",
    "predicted_train_y_lg = model3.predict(X_train_top_10)\n",
    "predicted_test_y_lg = model3.predict(X_test_top_10)\n",
    "\n",
    "wmae_train_score = WMAE(X_train_top_10, y_train, predicted_train_y_lg)\n",
    "wmae_test_score = WMAE(X_test_top_10, y_test, predicted_test_y_lg)\n",
    "\n",
    "print(wmae_train_score)\n",
    "print(wmae_test_score)"
   ]
  },
  {
   "cell_type": "markdown",
   "metadata": {},
   "source": [
    "### Using filtered features"
   ]
  },
  {
   "cell_type": "code",
   "execution_count": 55,
   "metadata": {},
   "outputs": [
    {
     "name": "stdout",
     "output_type": "stream",
     "text": [
      "1014.2680017032712\n",
      "1402.0126246332375\n"
     ]
    }
   ],
   "source": [
    "model1 = LGBMRegressor(learning_rate=0.2, n_estimators=5000, max_depth=35, n_jobs=-1)\n",
    "\n",
    "model1.fit(X_train_1, y_train)\n",
    "\n",
    "predicted_train_y = model1.predict(X_train_1)\n",
    "predicted_test_y = model1.predict(X_test_1)\n",
    "\n",
    "wmae_train_score = WMAE(X_train_1, y_train, predicted_train_y)\n",
    "wmae_test_score = WMAE(X_test_1, y_test, predicted_test_y)\n",
    "\n",
    "print(wmae_train_score)\n",
    "print(wmae_test_score)"
   ]
  },
  {
   "cell_type": "markdown",
   "metadata": {},
   "source": [
    "# Stacking"
   ]
  },
  {
   "cell_type": "code",
   "execution_count": 54,
   "metadata": {},
   "outputs": [],
   "source": [
    "from sklearn.ensemble import StackingRegressor"
   ]
  },
  {
   "cell_type": "markdown",
   "metadata": {},
   "source": [
    "## Using all features"
   ]
  },
  {
   "cell_type": "code",
   "execution_count": 51,
   "metadata": {},
   "outputs": [
    {
     "name": "stdout",
     "output_type": "stream",
     "text": [
      "691.8736423034042\n",
      "1281.989518963769\n"
     ]
    }
   ],
   "source": [
    "estimators = [('xg', XGBRegressor(learning_rate=0.1, n_estimators=2200, max_depth=8, n_jobs=-1)),\n",
    "             ('dt', DecisionTreeRegressor(max_depth=22, min_samples_leaf=10)),\n",
    "             ('lgb', LGBMRegressor(learning_rate=0.2, n_estimators=5000, max_depth=25, n_jobs=-1)),\n",
    "             ('rf', RandomForestRegressor(n_estimators=170, max_depth=25, n_jobs=-1))]\n",
    "model1 = StackingRegressor(estimators=estimators,final_estimator=RandomForestRegressor())\n",
    "model1.fit(X_train,y_train)\n",
    "\n",
    "predicted_train_y = model1.predict(X_train)\n",
    "predicted_test_y = model1.predict(X_test)\n",
    "\n",
    "wmae_train_score = WMAE(X_train, y_train, predicted_train_y)\n",
    "wmae_test_score = WMAE(X_test, y_test, predicted_test_y)\n",
    "\n",
    "print(wmae_train_score)\n",
    "print(wmae_test_score)"
   ]
  },
  {
   "cell_type": "markdown",
   "metadata": {},
   "source": [
    "## Using top 15 features"
   ]
  },
  {
   "cell_type": "code",
   "execution_count": 50,
   "metadata": {},
   "outputs": [
    {
     "name": "stdout",
     "output_type": "stream",
     "text": [
      "685.5844314179002\n",
      "1252.602076401632\n"
     ]
    }
   ],
   "source": [
    "estimators = [('xg', XGBRegressor(learning_rate=0.1, n_estimators=2200, max_depth=8, n_jobs=-1)),\n",
    "             ('dt', DecisionTreeRegressor(max_depth=22, min_samples_leaf=10)),\n",
    "             ('lgb', LGBMRegressor(learning_rate=0.2, n_estimators=5000, max_depth=25, n_jobs=-1)),\n",
    "             ('rf', RandomForestRegressor(n_estimators=170, max_depth=25, n_jobs=-1))]\n",
    "model = StackingRegressor(estimators=estimators,final_estimator=RandomForestRegressor())\n",
    "model.fit(X_train_top_15,y_train)\n",
    "\n",
    "predicted_train_y = model.predict(X_train_top_15)\n",
    "predicted_test_y = model.predict(X_test_top_15)\n",
    "\n",
    "wmae_train_score = WMAE(X_train_top_15, y_train, predicted_train_y)\n",
    "wmae_test_score = WMAE(X_test_top_15, y_test, predicted_test_y)\n",
    "\n",
    "print(wmae_train_score)\n",
    "print(wmae_test_score)"
   ]
  },
  {
   "cell_type": "markdown",
   "metadata": {},
   "source": [
    "## Using top 10 features"
   ]
  },
  {
   "cell_type": "code",
   "execution_count": 52,
   "metadata": {},
   "outputs": [
    {
     "name": "stdout",
     "output_type": "stream",
     "text": [
      "803.9905930456159\n",
      "1319.101195503277\n"
     ]
    }
   ],
   "source": [
    "estimators = [('xg', XGBRegressor(learning_rate=0.1, n_estimators=2200, max_depth=8, n_jobs=-1)),\n",
    "             ('dt', DecisionTreeRegressor(max_depth=22, min_samples_leaf=10)),\n",
    "             ('lgb', LGBMRegressor(learning_rate=0.2, n_estimators=5000, max_depth=25, n_jobs=-1)),\n",
    "             ('rf', RandomForestRegressor(n_estimators=170, max_depth=25, n_jobs=-1))]\n",
    "model2 = StackingRegressor(estimators=estimators,final_estimator=RandomForestRegressor())\n",
    "model2.fit(X_train_top_10,y_train)\n",
    "\n",
    "predicted_train_y = model2.predict(X_train_top_10)\n",
    "predicted_test_y = model2.predict(X_test_top_10)\n",
    "\n",
    "wmae_train_score = WMAE(X_train_top_10, y_train, predicted_train_y)\n",
    "wmae_test_score = WMAE(X_test_top_10, y_test, predicted_test_y)\n",
    "\n",
    "print(wmae_train_score)\n",
    "print(wmae_test_score)"
   ]
  },
  {
   "cell_type": "markdown",
   "metadata": {},
   "source": [
    "### Using filtered features"
   ]
  },
  {
   "cell_type": "code",
   "execution_count": 56,
   "metadata": {},
   "outputs": [
    {
     "name": "stdout",
     "output_type": "stream",
     "text": [
      "737.0604827013741\n",
      "1228.321004233956\n"
     ]
    }
   ],
   "source": [
    "estimators = [('xg', XGBRegressor(learning_rate=0.1, n_estimators=2200, max_depth=8, n_jobs=-1)),\n",
    "             ('dt', DecisionTreeRegressor(max_depth=22, min_samples_leaf=10)),\n",
    "             ('lgb', LGBMRegressor(learning_rate=0.2, n_estimators=5000, max_depth=25, n_jobs=-1)),\n",
    "             ('rf', RandomForestRegressor(n_estimators=170, max_depth=25, n_jobs=-1))]\n",
    "model1 = StackingRegressor(estimators=estimators,final_estimator=RandomForestRegressor())\n",
    "model1.fit(X_train_1, y_train)\n",
    "\n",
    "predicted_train_y = model1.predict(X_train_1)\n",
    "predicted_test_y = model1.predict(X_test_1)\n",
    "\n",
    "wmae_train_score = WMAE(X_train_1, y_train, predicted_train_y)\n",
    "wmae_test_score = WMAE(X_test_1, y_test, predicted_test_y)\n",
    "\n",
    "print(wmae_train_score)\n",
    "print(wmae_test_score)"
   ]
  },
  {
   "cell_type": "markdown",
   "metadata": {},
   "source": [
    "# Table of model vs scores"
   ]
  },
  {
   "cell_type": "code",
   "execution_count": 57,
   "metadata": {},
   "outputs": [
    {
     "name": "stdout",
     "output_type": "stream",
     "text": [
      "+--------------------+--------------------+-----------------------+-----------------------+-------------------------+\n",
      "|       Model        | Using all features | Using top 10 features | Using top 15 features | Using filtered features |\n",
      "+--------------------+--------------------+-----------------------+-----------------------+-------------------------+\n",
      "| Simple Linear Reg. |      14808.07      |        14846.62       |        14836.59       |         14850.01        |\n",
      "| Decision Tree Reg. |      1874.19       |        1928.77        |        1872.85        |         1837.37         |\n",
      "|     LGBM Reg.      |      1540.45       |        1516.13        |        1477.95        |         1402.01         |\n",
      "| RandomForest Reg.  |      1490.34       |         1570.2        |        1475.77        |         1443.13         |\n",
      "|    XGBoost Reg.    |      1514.53       |        1546.52        |        1413.89        |         1383.33         |\n",
      "|   Stacking Reg.    |      1281.98       |         1319.1        |         1252.6        |         1228.32         |\n",
      "+--------------------+--------------------+-----------------------+-----------------------+-------------------------+\n"
     ]
    }
   ],
   "source": [
    "from prettytable import PrettyTable\n",
    "  \n",
    "columns = [\"Model\", \"Using all features\", \"Using top 10 features\", \"Using top 15 features\", \"Using filtered features\"]\n",
    "  \n",
    "table = PrettyTable()\n",
    "\n",
    "table.add_column(columns[0], ['Simple Linear Reg.', 'Decision Tree Reg.', 'LGBM Reg.', 'RandomForest Reg.', 'XGBoost Reg.', 'Stacking Reg.'])\n",
    "table.add_column(columns[1], [14808.07, 1874.19, 1540.45, 1490.34, 1514.53, 1281.98])\n",
    "table.add_column(columns[2], [14846.62, 1928.77, 1516.13, 1570.20, 1546.52, 1319.10])\n",
    "table.add_column(columns[3], [14836.59, 1872.85, 1477.95, 1475.77, 1413.89, 1252.60])\n",
    "table.add_column(columns[4], [14850.01, 1837.37, 1402.01, 1443.13, 1383.33, 1228.32])\n",
    "  \n",
    "print(table)"
   ]
  },
  {
   "cell_type": "markdown",
   "metadata": {},
   "source": [
    "#### After comparing here, stacking model works well on cv data but kaggle score is lowest in case of Random Forest Regressor because Random Forest handles outliers very well. So, final model is Random Forest."
   ]
  },
  {
   "cell_type": "markdown",
   "metadata": {},
   "source": [
    "# Submission and final model"
   ]
  },
  {
   "cell_type": "code",
   "execution_count": 11,
   "metadata": {},
   "outputs": [
    {
     "data": {
      "text/plain": [
       "['final_model.pkl']"
      ]
     },
     "execution_count": 11,
     "metadata": {},
     "output_type": "execute_result"
    }
   ],
   "source": [
    "final_model = RandomForestRegressor(n_estimators=350, max_depth=70, n_jobs=-1)\n",
    "\n",
    "final_model.fit(X_train_1, y_train)\n",
    "\n",
    "joblib.dump(final_model, 'final_model.pkl')"
   ]
  },
  {
   "cell_type": "code",
   "execution_count": 7,
   "metadata": {},
   "outputs": [],
   "source": [
    "# Importing final submission file\n",
    "df = pd.read_csv('Raw data/sampleSubmission.csv')"
   ]
  },
  {
   "cell_type": "code",
   "execution_count": 8,
   "metadata": {},
   "outputs": [
    {
     "data": {
      "text/html": [
       "<div>\n",
       "<style scoped>\n",
       "    .dataframe tbody tr th:only-of-type {\n",
       "        vertical-align: middle;\n",
       "    }\n",
       "\n",
       "    .dataframe tbody tr th {\n",
       "        vertical-align: top;\n",
       "    }\n",
       "\n",
       "    .dataframe thead th {\n",
       "        text-align: right;\n",
       "    }\n",
       "</style>\n",
       "<table border=\"1\" class=\"dataframe\">\n",
       "  <thead>\n",
       "    <tr style=\"text-align: right;\">\n",
       "      <th></th>\n",
       "      <th>Id</th>\n",
       "      <th>Weekly_Sales</th>\n",
       "    </tr>\n",
       "  </thead>\n",
       "  <tbody>\n",
       "    <tr>\n",
       "      <th>0</th>\n",
       "      <td>1_1_2012-11-02</td>\n",
       "      <td>0</td>\n",
       "    </tr>\n",
       "    <tr>\n",
       "      <th>1</th>\n",
       "      <td>1_1_2012-11-09</td>\n",
       "      <td>0</td>\n",
       "    </tr>\n",
       "    <tr>\n",
       "      <th>2</th>\n",
       "      <td>1_1_2012-11-16</td>\n",
       "      <td>0</td>\n",
       "    </tr>\n",
       "    <tr>\n",
       "      <th>3</th>\n",
       "      <td>1_1_2012-11-23</td>\n",
       "      <td>0</td>\n",
       "    </tr>\n",
       "    <tr>\n",
       "      <th>4</th>\n",
       "      <td>1_1_2012-11-30</td>\n",
       "      <td>0</td>\n",
       "    </tr>\n",
       "  </tbody>\n",
       "</table>\n",
       "</div>"
      ],
      "text/plain": [
       "               Id  Weekly_Sales\n",
       "0  1_1_2012-11-02             0\n",
       "1  1_1_2012-11-09             0\n",
       "2  1_1_2012-11-16             0\n",
       "3  1_1_2012-11-23             0\n",
       "4  1_1_2012-11-30             0"
      ]
     },
     "execution_count": 8,
     "metadata": {},
     "output_type": "execute_result"
    }
   ],
   "source": [
    "df.head()"
   ]
  },
  {
   "cell_type": "code",
   "execution_count": 9,
   "metadata": {},
   "outputs": [
    {
     "data": {
      "text/plain": [
       "(115064, 2)"
      ]
     },
     "execution_count": 9,
     "metadata": {},
     "output_type": "execute_result"
    }
   ],
   "source": [
    "df.shape"
   ]
  },
  {
   "cell_type": "code",
   "execution_count": 10,
   "metadata": {},
   "outputs": [],
   "source": [
    "#Importing train and test data\n",
    "train_data = pd.read_csv('Final_data_train_FE.csv')\n",
    "test_data = pd.read_csv('Test_data_final.csv')"
   ]
  },
  {
   "cell_type": "code",
   "execution_count": 11,
   "metadata": {},
   "outputs": [],
   "source": [
    "train_data= train_data[train_data['Weekly_Sales']>0]"
   ]
  },
  {
   "cell_type": "code",
   "execution_count": 12,
   "metadata": {},
   "outputs": [
    {
     "data": {
      "text/html": [
       "<div>\n",
       "<style scoped>\n",
       "    .dataframe tbody tr th:only-of-type {\n",
       "        vertical-align: middle;\n",
       "    }\n",
       "\n",
       "    .dataframe tbody tr th {\n",
       "        vertical-align: top;\n",
       "    }\n",
       "\n",
       "    .dataframe thead th {\n",
       "        text-align: right;\n",
       "    }\n",
       "</style>\n",
       "<table border=\"1\" class=\"dataframe\">\n",
       "  <thead>\n",
       "    <tr style=\"text-align: right;\">\n",
       "      <th></th>\n",
       "      <th>Store</th>\n",
       "      <th>Dept</th>\n",
       "      <th>Date</th>\n",
       "      <th>Weekly_Sales</th>\n",
       "      <th>IsHoliday</th>\n",
       "      <th>Temperature</th>\n",
       "      <th>Fuel_Price</th>\n",
       "      <th>MarkDown1</th>\n",
       "      <th>MarkDown2</th>\n",
       "      <th>MarkDown3</th>\n",
       "      <th>...</th>\n",
       "      <th>Holiday_Type</th>\n",
       "      <th>Temperature_Cat</th>\n",
       "      <th>Fuel_Price_Cat</th>\n",
       "      <th>Holiday_Month</th>\n",
       "      <th>Week_of_the_month</th>\n",
       "      <th>weeks_for_christmas</th>\n",
       "      <th>weeks_for_thanksgiving</th>\n",
       "      <th>weeks_for_laborday</th>\n",
       "      <th>weeks_for_superbowl</th>\n",
       "      <th>no_of_weeks_for_next_holiday</th>\n",
       "    </tr>\n",
       "  </thead>\n",
       "  <tbody>\n",
       "    <tr>\n",
       "      <th>0</th>\n",
       "      <td>1</td>\n",
       "      <td>1</td>\n",
       "      <td>1.265308e+09</td>\n",
       "      <td>24924.50</td>\n",
       "      <td>0</td>\n",
       "      <td>42.31</td>\n",
       "      <td>2.572</td>\n",
       "      <td>0.0</td>\n",
       "      <td>0.0</td>\n",
       "      <td>0.0</td>\n",
       "      <td>...</td>\n",
       "      <td>0</td>\n",
       "      <td>40</td>\n",
       "      <td>3.0</td>\n",
       "      <td>3</td>\n",
       "      <td>1</td>\n",
       "      <td>47</td>\n",
       "      <td>42</td>\n",
       "      <td>31</td>\n",
       "      <td>1</td>\n",
       "      <td>1</td>\n",
       "    </tr>\n",
       "    <tr>\n",
       "      <th>1</th>\n",
       "      <td>1</td>\n",
       "      <td>2</td>\n",
       "      <td>1.265308e+09</td>\n",
       "      <td>50605.27</td>\n",
       "      <td>0</td>\n",
       "      <td>42.31</td>\n",
       "      <td>2.572</td>\n",
       "      <td>0.0</td>\n",
       "      <td>0.0</td>\n",
       "      <td>0.0</td>\n",
       "      <td>...</td>\n",
       "      <td>0</td>\n",
       "      <td>40</td>\n",
       "      <td>3.0</td>\n",
       "      <td>3</td>\n",
       "      <td>1</td>\n",
       "      <td>47</td>\n",
       "      <td>42</td>\n",
       "      <td>31</td>\n",
       "      <td>1</td>\n",
       "      <td>1</td>\n",
       "    </tr>\n",
       "    <tr>\n",
       "      <th>2</th>\n",
       "      <td>1</td>\n",
       "      <td>3</td>\n",
       "      <td>1.265308e+09</td>\n",
       "      <td>13740.12</td>\n",
       "      <td>0</td>\n",
       "      <td>42.31</td>\n",
       "      <td>2.572</td>\n",
       "      <td>0.0</td>\n",
       "      <td>0.0</td>\n",
       "      <td>0.0</td>\n",
       "      <td>...</td>\n",
       "      <td>0</td>\n",
       "      <td>40</td>\n",
       "      <td>3.0</td>\n",
       "      <td>3</td>\n",
       "      <td>1</td>\n",
       "      <td>47</td>\n",
       "      <td>42</td>\n",
       "      <td>31</td>\n",
       "      <td>1</td>\n",
       "      <td>1</td>\n",
       "    </tr>\n",
       "    <tr>\n",
       "      <th>3</th>\n",
       "      <td>1</td>\n",
       "      <td>4</td>\n",
       "      <td>1.265308e+09</td>\n",
       "      <td>39954.04</td>\n",
       "      <td>0</td>\n",
       "      <td>42.31</td>\n",
       "      <td>2.572</td>\n",
       "      <td>0.0</td>\n",
       "      <td>0.0</td>\n",
       "      <td>0.0</td>\n",
       "      <td>...</td>\n",
       "      <td>0</td>\n",
       "      <td>40</td>\n",
       "      <td>3.0</td>\n",
       "      <td>3</td>\n",
       "      <td>1</td>\n",
       "      <td>47</td>\n",
       "      <td>42</td>\n",
       "      <td>31</td>\n",
       "      <td>1</td>\n",
       "      <td>1</td>\n",
       "    </tr>\n",
       "    <tr>\n",
       "      <th>4</th>\n",
       "      <td>1</td>\n",
       "      <td>5</td>\n",
       "      <td>1.265308e+09</td>\n",
       "      <td>32229.38</td>\n",
       "      <td>0</td>\n",
       "      <td>42.31</td>\n",
       "      <td>2.572</td>\n",
       "      <td>0.0</td>\n",
       "      <td>0.0</td>\n",
       "      <td>0.0</td>\n",
       "      <td>...</td>\n",
       "      <td>0</td>\n",
       "      <td>40</td>\n",
       "      <td>3.0</td>\n",
       "      <td>3</td>\n",
       "      <td>1</td>\n",
       "      <td>47</td>\n",
       "      <td>42</td>\n",
       "      <td>31</td>\n",
       "      <td>1</td>\n",
       "      <td>1</td>\n",
       "    </tr>\n",
       "  </tbody>\n",
       "</table>\n",
       "<p>5 rows × 30 columns</p>\n",
       "</div>"
      ],
      "text/plain": [
       "   Store  Dept          Date  Weekly_Sales  IsHoliday  Temperature  \\\n",
       "0      1     1  1.265308e+09      24924.50          0        42.31   \n",
       "1      1     2  1.265308e+09      50605.27          0        42.31   \n",
       "2      1     3  1.265308e+09      13740.12          0        42.31   \n",
       "3      1     4  1.265308e+09      39954.04          0        42.31   \n",
       "4      1     5  1.265308e+09      32229.38          0        42.31   \n",
       "\n",
       "   Fuel_Price  MarkDown1  MarkDown2  MarkDown3  ...  Holiday_Type  \\\n",
       "0       2.572        0.0        0.0        0.0  ...             0   \n",
       "1       2.572        0.0        0.0        0.0  ...             0   \n",
       "2       2.572        0.0        0.0        0.0  ...             0   \n",
       "3       2.572        0.0        0.0        0.0  ...             0   \n",
       "4       2.572        0.0        0.0        0.0  ...             0   \n",
       "\n",
       "   Temperature_Cat  Fuel_Price_Cat  Holiday_Month  Week_of_the_month  \\\n",
       "0               40             3.0              3                  1   \n",
       "1               40             3.0              3                  1   \n",
       "2               40             3.0              3                  1   \n",
       "3               40             3.0              3                  1   \n",
       "4               40             3.0              3                  1   \n",
       "\n",
       "   weeks_for_christmas  weeks_for_thanksgiving  weeks_for_laborday  \\\n",
       "0                   47                      42                  31   \n",
       "1                   47                      42                  31   \n",
       "2                   47                      42                  31   \n",
       "3                   47                      42                  31   \n",
       "4                   47                      42                  31   \n",
       "\n",
       "   weeks_for_superbowl  no_of_weeks_for_next_holiday  \n",
       "0                    1                             1  \n",
       "1                    1                             1  \n",
       "2                    1                             1  \n",
       "3                    1                             1  \n",
       "4                    1                             1  \n",
       "\n",
       "[5 rows x 30 columns]"
      ]
     },
     "execution_count": 12,
     "metadata": {},
     "output_type": "execute_result"
    }
   ],
   "source": [
    "train_data.head()"
   ]
  },
  {
   "cell_type": "code",
   "execution_count": 13,
   "metadata": {},
   "outputs": [
    {
     "data": {
      "text/plain": [
       "(420212, 30)"
      ]
     },
     "execution_count": 13,
     "metadata": {},
     "output_type": "execute_result"
    }
   ],
   "source": [
    "train_data.shape"
   ]
  },
  {
   "cell_type": "code",
   "execution_count": 14,
   "metadata": {},
   "outputs": [],
   "source": [
    "test_data.drop('Unnamed: 0', axis=1, inplace=True)"
   ]
  },
  {
   "cell_type": "code",
   "execution_count": 15,
   "metadata": {},
   "outputs": [
    {
     "data": {
      "text/html": [
       "<div>\n",
       "<style scoped>\n",
       "    .dataframe tbody tr th:only-of-type {\n",
       "        vertical-align: middle;\n",
       "    }\n",
       "\n",
       "    .dataframe tbody tr th {\n",
       "        vertical-align: top;\n",
       "    }\n",
       "\n",
       "    .dataframe thead th {\n",
       "        text-align: right;\n",
       "    }\n",
       "</style>\n",
       "<table border=\"1\" class=\"dataframe\">\n",
       "  <thead>\n",
       "    <tr style=\"text-align: right;\">\n",
       "      <th></th>\n",
       "      <th>Store</th>\n",
       "      <th>Dept</th>\n",
       "      <th>Date</th>\n",
       "      <th>IsHoliday</th>\n",
       "      <th>Temperature</th>\n",
       "      <th>Fuel_Price</th>\n",
       "      <th>MarkDown1</th>\n",
       "      <th>MarkDown2</th>\n",
       "      <th>MarkDown3</th>\n",
       "      <th>MarkDown4</th>\n",
       "      <th>...</th>\n",
       "      <th>Holiday_Type</th>\n",
       "      <th>Temperature_Cat</th>\n",
       "      <th>Fuel_Price_Cat</th>\n",
       "      <th>Holiday_Month</th>\n",
       "      <th>Week_of_the_month</th>\n",
       "      <th>weeks_for_christmas</th>\n",
       "      <th>weeks_for_thanksgiving</th>\n",
       "      <th>weeks_for_laborday</th>\n",
       "      <th>weeks_for_superbowl</th>\n",
       "      <th>no_of_weeks_for_next_holiday</th>\n",
       "    </tr>\n",
       "  </thead>\n",
       "  <tbody>\n",
       "    <tr>\n",
       "      <th>0</th>\n",
       "      <td>1</td>\n",
       "      <td>1</td>\n",
       "      <td>1.351814e+09</td>\n",
       "      <td>0</td>\n",
       "      <td>55.32</td>\n",
       "      <td>3.386</td>\n",
       "      <td>6766.44</td>\n",
       "      <td>5147.7</td>\n",
       "      <td>50.82</td>\n",
       "      <td>3639.9</td>\n",
       "      <td>...</td>\n",
       "      <td>0</td>\n",
       "      <td>60</td>\n",
       "      <td>3.5</td>\n",
       "      <td>2</td>\n",
       "      <td>1</td>\n",
       "      <td>8</td>\n",
       "      <td>3</td>\n",
       "      <td>45</td>\n",
       "      <td>15</td>\n",
       "      <td>3</td>\n",
       "    </tr>\n",
       "    <tr>\n",
       "      <th>1</th>\n",
       "      <td>1</td>\n",
       "      <td>2</td>\n",
       "      <td>1.351814e+09</td>\n",
       "      <td>0</td>\n",
       "      <td>55.32</td>\n",
       "      <td>3.386</td>\n",
       "      <td>6766.44</td>\n",
       "      <td>5147.7</td>\n",
       "      <td>50.82</td>\n",
       "      <td>3639.9</td>\n",
       "      <td>...</td>\n",
       "      <td>0</td>\n",
       "      <td>60</td>\n",
       "      <td>3.5</td>\n",
       "      <td>2</td>\n",
       "      <td>1</td>\n",
       "      <td>8</td>\n",
       "      <td>3</td>\n",
       "      <td>45</td>\n",
       "      <td>15</td>\n",
       "      <td>3</td>\n",
       "    </tr>\n",
       "    <tr>\n",
       "      <th>2</th>\n",
       "      <td>1</td>\n",
       "      <td>3</td>\n",
       "      <td>1.351814e+09</td>\n",
       "      <td>0</td>\n",
       "      <td>55.32</td>\n",
       "      <td>3.386</td>\n",
       "      <td>6766.44</td>\n",
       "      <td>5147.7</td>\n",
       "      <td>50.82</td>\n",
       "      <td>3639.9</td>\n",
       "      <td>...</td>\n",
       "      <td>0</td>\n",
       "      <td>60</td>\n",
       "      <td>3.5</td>\n",
       "      <td>2</td>\n",
       "      <td>1</td>\n",
       "      <td>8</td>\n",
       "      <td>3</td>\n",
       "      <td>45</td>\n",
       "      <td>15</td>\n",
       "      <td>3</td>\n",
       "    </tr>\n",
       "    <tr>\n",
       "      <th>3</th>\n",
       "      <td>1</td>\n",
       "      <td>4</td>\n",
       "      <td>1.351814e+09</td>\n",
       "      <td>0</td>\n",
       "      <td>55.32</td>\n",
       "      <td>3.386</td>\n",
       "      <td>6766.44</td>\n",
       "      <td>5147.7</td>\n",
       "      <td>50.82</td>\n",
       "      <td>3639.9</td>\n",
       "      <td>...</td>\n",
       "      <td>0</td>\n",
       "      <td>60</td>\n",
       "      <td>3.5</td>\n",
       "      <td>2</td>\n",
       "      <td>1</td>\n",
       "      <td>8</td>\n",
       "      <td>3</td>\n",
       "      <td>45</td>\n",
       "      <td>15</td>\n",
       "      <td>3</td>\n",
       "    </tr>\n",
       "    <tr>\n",
       "      <th>4</th>\n",
       "      <td>1</td>\n",
       "      <td>5</td>\n",
       "      <td>1.351814e+09</td>\n",
       "      <td>0</td>\n",
       "      <td>55.32</td>\n",
       "      <td>3.386</td>\n",
       "      <td>6766.44</td>\n",
       "      <td>5147.7</td>\n",
       "      <td>50.82</td>\n",
       "      <td>3639.9</td>\n",
       "      <td>...</td>\n",
       "      <td>0</td>\n",
       "      <td>60</td>\n",
       "      <td>3.5</td>\n",
       "      <td>2</td>\n",
       "      <td>1</td>\n",
       "      <td>8</td>\n",
       "      <td>3</td>\n",
       "      <td>45</td>\n",
       "      <td>15</td>\n",
       "      <td>3</td>\n",
       "    </tr>\n",
       "  </tbody>\n",
       "</table>\n",
       "<p>5 rows × 29 columns</p>\n",
       "</div>"
      ],
      "text/plain": [
       "   Store  Dept          Date  IsHoliday  Temperature  Fuel_Price  MarkDown1  \\\n",
       "0      1     1  1.351814e+09          0        55.32       3.386    6766.44   \n",
       "1      1     2  1.351814e+09          0        55.32       3.386    6766.44   \n",
       "2      1     3  1.351814e+09          0        55.32       3.386    6766.44   \n",
       "3      1     4  1.351814e+09          0        55.32       3.386    6766.44   \n",
       "4      1     5  1.351814e+09          0        55.32       3.386    6766.44   \n",
       "\n",
       "   MarkDown2  MarkDown3  MarkDown4  ...  Holiday_Type  Temperature_Cat  \\\n",
       "0     5147.7      50.82     3639.9  ...             0               60   \n",
       "1     5147.7      50.82     3639.9  ...             0               60   \n",
       "2     5147.7      50.82     3639.9  ...             0               60   \n",
       "3     5147.7      50.82     3639.9  ...             0               60   \n",
       "4     5147.7      50.82     3639.9  ...             0               60   \n",
       "\n",
       "   Fuel_Price_Cat  Holiday_Month  Week_of_the_month  weeks_for_christmas  \\\n",
       "0             3.5              2                  1                    8   \n",
       "1             3.5              2                  1                    8   \n",
       "2             3.5              2                  1                    8   \n",
       "3             3.5              2                  1                    8   \n",
       "4             3.5              2                  1                    8   \n",
       "\n",
       "   weeks_for_thanksgiving  weeks_for_laborday  weeks_for_superbowl  \\\n",
       "0                       3                  45                   15   \n",
       "1                       3                  45                   15   \n",
       "2                       3                  45                   15   \n",
       "3                       3                  45                   15   \n",
       "4                       3                  45                   15   \n",
       "\n",
       "   no_of_weeks_for_next_holiday  \n",
       "0                             3  \n",
       "1                             3  \n",
       "2                             3  \n",
       "3                             3  \n",
       "4                             3  \n",
       "\n",
       "[5 rows x 29 columns]"
      ]
     },
     "execution_count": 15,
     "metadata": {},
     "output_type": "execute_result"
    }
   ],
   "source": [
    "test_data.head()"
   ]
  },
  {
   "cell_type": "code",
   "execution_count": 16,
   "metadata": {},
   "outputs": [],
   "source": [
    "dates = []\n",
    "for i in test_data['Date']:\n",
    "  x = datetime.datetime.fromtimestamp(i).strftime('%Y-%m-%d')\n",
    "  dates.append(x)\n",
    "test_data['Date'] = dates"
   ]
  },
  {
   "cell_type": "code",
   "execution_count": 17,
   "metadata": {},
   "outputs": [
    {
     "data": {
      "text/html": [
       "<div>\n",
       "<style scoped>\n",
       "    .dataframe tbody tr th:only-of-type {\n",
       "        vertical-align: middle;\n",
       "    }\n",
       "\n",
       "    .dataframe tbody tr th {\n",
       "        vertical-align: top;\n",
       "    }\n",
       "\n",
       "    .dataframe thead th {\n",
       "        text-align: right;\n",
       "    }\n",
       "</style>\n",
       "<table border=\"1\" class=\"dataframe\">\n",
       "  <thead>\n",
       "    <tr style=\"text-align: right;\">\n",
       "      <th></th>\n",
       "      <th>Store</th>\n",
       "      <th>Dept</th>\n",
       "      <th>Date</th>\n",
       "      <th>IsHoliday</th>\n",
       "      <th>Temperature</th>\n",
       "      <th>Fuel_Price</th>\n",
       "      <th>MarkDown1</th>\n",
       "      <th>MarkDown2</th>\n",
       "      <th>MarkDown3</th>\n",
       "      <th>MarkDown4</th>\n",
       "      <th>...</th>\n",
       "      <th>Holiday_Type</th>\n",
       "      <th>Temperature_Cat</th>\n",
       "      <th>Fuel_Price_Cat</th>\n",
       "      <th>Holiday_Month</th>\n",
       "      <th>Week_of_the_month</th>\n",
       "      <th>weeks_for_christmas</th>\n",
       "      <th>weeks_for_thanksgiving</th>\n",
       "      <th>weeks_for_laborday</th>\n",
       "      <th>weeks_for_superbowl</th>\n",
       "      <th>no_of_weeks_for_next_holiday</th>\n",
       "    </tr>\n",
       "  </thead>\n",
       "  <tbody>\n",
       "    <tr>\n",
       "      <th>0</th>\n",
       "      <td>1</td>\n",
       "      <td>1</td>\n",
       "      <td>2012-11-02</td>\n",
       "      <td>0</td>\n",
       "      <td>55.32</td>\n",
       "      <td>3.386</td>\n",
       "      <td>6766.44</td>\n",
       "      <td>5147.7</td>\n",
       "      <td>50.82</td>\n",
       "      <td>3639.9</td>\n",
       "      <td>...</td>\n",
       "      <td>0</td>\n",
       "      <td>60</td>\n",
       "      <td>3.5</td>\n",
       "      <td>2</td>\n",
       "      <td>1</td>\n",
       "      <td>8</td>\n",
       "      <td>3</td>\n",
       "      <td>45</td>\n",
       "      <td>15</td>\n",
       "      <td>3</td>\n",
       "    </tr>\n",
       "    <tr>\n",
       "      <th>1</th>\n",
       "      <td>1</td>\n",
       "      <td>2</td>\n",
       "      <td>2012-11-02</td>\n",
       "      <td>0</td>\n",
       "      <td>55.32</td>\n",
       "      <td>3.386</td>\n",
       "      <td>6766.44</td>\n",
       "      <td>5147.7</td>\n",
       "      <td>50.82</td>\n",
       "      <td>3639.9</td>\n",
       "      <td>...</td>\n",
       "      <td>0</td>\n",
       "      <td>60</td>\n",
       "      <td>3.5</td>\n",
       "      <td>2</td>\n",
       "      <td>1</td>\n",
       "      <td>8</td>\n",
       "      <td>3</td>\n",
       "      <td>45</td>\n",
       "      <td>15</td>\n",
       "      <td>3</td>\n",
       "    </tr>\n",
       "    <tr>\n",
       "      <th>2</th>\n",
       "      <td>1</td>\n",
       "      <td>3</td>\n",
       "      <td>2012-11-02</td>\n",
       "      <td>0</td>\n",
       "      <td>55.32</td>\n",
       "      <td>3.386</td>\n",
       "      <td>6766.44</td>\n",
       "      <td>5147.7</td>\n",
       "      <td>50.82</td>\n",
       "      <td>3639.9</td>\n",
       "      <td>...</td>\n",
       "      <td>0</td>\n",
       "      <td>60</td>\n",
       "      <td>3.5</td>\n",
       "      <td>2</td>\n",
       "      <td>1</td>\n",
       "      <td>8</td>\n",
       "      <td>3</td>\n",
       "      <td>45</td>\n",
       "      <td>15</td>\n",
       "      <td>3</td>\n",
       "    </tr>\n",
       "    <tr>\n",
       "      <th>3</th>\n",
       "      <td>1</td>\n",
       "      <td>4</td>\n",
       "      <td>2012-11-02</td>\n",
       "      <td>0</td>\n",
       "      <td>55.32</td>\n",
       "      <td>3.386</td>\n",
       "      <td>6766.44</td>\n",
       "      <td>5147.7</td>\n",
       "      <td>50.82</td>\n",
       "      <td>3639.9</td>\n",
       "      <td>...</td>\n",
       "      <td>0</td>\n",
       "      <td>60</td>\n",
       "      <td>3.5</td>\n",
       "      <td>2</td>\n",
       "      <td>1</td>\n",
       "      <td>8</td>\n",
       "      <td>3</td>\n",
       "      <td>45</td>\n",
       "      <td>15</td>\n",
       "      <td>3</td>\n",
       "    </tr>\n",
       "    <tr>\n",
       "      <th>4</th>\n",
       "      <td>1</td>\n",
       "      <td>5</td>\n",
       "      <td>2012-11-02</td>\n",
       "      <td>0</td>\n",
       "      <td>55.32</td>\n",
       "      <td>3.386</td>\n",
       "      <td>6766.44</td>\n",
       "      <td>5147.7</td>\n",
       "      <td>50.82</td>\n",
       "      <td>3639.9</td>\n",
       "      <td>...</td>\n",
       "      <td>0</td>\n",
       "      <td>60</td>\n",
       "      <td>3.5</td>\n",
       "      <td>2</td>\n",
       "      <td>1</td>\n",
       "      <td>8</td>\n",
       "      <td>3</td>\n",
       "      <td>45</td>\n",
       "      <td>15</td>\n",
       "      <td>3</td>\n",
       "    </tr>\n",
       "  </tbody>\n",
       "</table>\n",
       "<p>5 rows × 29 columns</p>\n",
       "</div>"
      ],
      "text/plain": [
       "   Store  Dept        Date  IsHoliday  Temperature  Fuel_Price  MarkDown1  \\\n",
       "0      1     1  2012-11-02          0        55.32       3.386    6766.44   \n",
       "1      1     2  2012-11-02          0        55.32       3.386    6766.44   \n",
       "2      1     3  2012-11-02          0        55.32       3.386    6766.44   \n",
       "3      1     4  2012-11-02          0        55.32       3.386    6766.44   \n",
       "4      1     5  2012-11-02          0        55.32       3.386    6766.44   \n",
       "\n",
       "   MarkDown2  MarkDown3  MarkDown4  ...  Holiday_Type  Temperature_Cat  \\\n",
       "0     5147.7      50.82     3639.9  ...             0               60   \n",
       "1     5147.7      50.82     3639.9  ...             0               60   \n",
       "2     5147.7      50.82     3639.9  ...             0               60   \n",
       "3     5147.7      50.82     3639.9  ...             0               60   \n",
       "4     5147.7      50.82     3639.9  ...             0               60   \n",
       "\n",
       "   Fuel_Price_Cat  Holiday_Month  Week_of_the_month  weeks_for_christmas  \\\n",
       "0             3.5              2                  1                    8   \n",
       "1             3.5              2                  1                    8   \n",
       "2             3.5              2                  1                    8   \n",
       "3             3.5              2                  1                    8   \n",
       "4             3.5              2                  1                    8   \n",
       "\n",
       "   weeks_for_thanksgiving  weeks_for_laborday  weeks_for_superbowl  \\\n",
       "0                       3                  45                   15   \n",
       "1                       3                  45                   15   \n",
       "2                       3                  45                   15   \n",
       "3                       3                  45                   15   \n",
       "4                       3                  45                   15   \n",
       "\n",
       "   no_of_weeks_for_next_holiday  \n",
       "0                             3  \n",
       "1                             3  \n",
       "2                             3  \n",
       "3                             3  \n",
       "4                             3  \n",
       "\n",
       "[5 rows x 29 columns]"
      ]
     },
     "execution_count": 17,
     "metadata": {},
     "output_type": "execute_result"
    }
   ],
   "source": [
    "test_data.head()"
   ]
  },
  {
   "cell_type": "code",
   "execution_count": 18,
   "metadata": {},
   "outputs": [],
   "source": [
    "final_train_data = train_data[['Dept', 'Size', 'Store', 'Type', 'Week', 'day', 'IsHoliday', 'year', 'Date']]\n",
    "final_test_data = test_data[['Dept', 'Size', 'Store', 'Type', 'Week', 'day', 'IsHoliday', 'year', 'Date']]\n",
    "y_train = train_data['Weekly_Sales']\n",
    "final_test_data = final_test_data.sort_values(by=['Store', 'Dept', 'Date'])"
   ]
  },
  {
   "cell_type": "code",
   "execution_count": 19,
   "metadata": {},
   "outputs": [],
   "source": [
    "final_test_data.drop('Date', axis=1, inplace=True)\n",
    "final_train_data.drop('Date', axis=1, inplace=True)"
   ]
  },
  {
   "cell_type": "code",
   "execution_count": 20,
   "metadata": {},
   "outputs": [
    {
     "data": {
      "text/html": [
       "<div>\n",
       "<style scoped>\n",
       "    .dataframe tbody tr th:only-of-type {\n",
       "        vertical-align: middle;\n",
       "    }\n",
       "\n",
       "    .dataframe tbody tr th {\n",
       "        vertical-align: top;\n",
       "    }\n",
       "\n",
       "    .dataframe thead th {\n",
       "        text-align: right;\n",
       "    }\n",
       "</style>\n",
       "<table border=\"1\" class=\"dataframe\">\n",
       "  <thead>\n",
       "    <tr style=\"text-align: right;\">\n",
       "      <th></th>\n",
       "      <th>Dept</th>\n",
       "      <th>Size</th>\n",
       "      <th>Store</th>\n",
       "      <th>Type</th>\n",
       "      <th>Week</th>\n",
       "      <th>day</th>\n",
       "      <th>IsHoliday</th>\n",
       "      <th>year</th>\n",
       "    </tr>\n",
       "  </thead>\n",
       "  <tbody>\n",
       "    <tr>\n",
       "      <th>0</th>\n",
       "      <td>1</td>\n",
       "      <td>151315</td>\n",
       "      <td>1</td>\n",
       "      <td>1</td>\n",
       "      <td>44</td>\n",
       "      <td>2</td>\n",
       "      <td>0</td>\n",
       "      <td>2012</td>\n",
       "    </tr>\n",
       "    <tr>\n",
       "      <th>71</th>\n",
       "      <td>1</td>\n",
       "      <td>151315</td>\n",
       "      <td>1</td>\n",
       "      <td>1</td>\n",
       "      <td>45</td>\n",
       "      <td>9</td>\n",
       "      <td>0</td>\n",
       "      <td>2012</td>\n",
       "    </tr>\n",
       "    <tr>\n",
       "      <th>142</th>\n",
       "      <td>1</td>\n",
       "      <td>151315</td>\n",
       "      <td>1</td>\n",
       "      <td>1</td>\n",
       "      <td>46</td>\n",
       "      <td>16</td>\n",
       "      <td>0</td>\n",
       "      <td>2012</td>\n",
       "    </tr>\n",
       "    <tr>\n",
       "      <th>213</th>\n",
       "      <td>1</td>\n",
       "      <td>151315</td>\n",
       "      <td>1</td>\n",
       "      <td>1</td>\n",
       "      <td>47</td>\n",
       "      <td>23</td>\n",
       "      <td>1</td>\n",
       "      <td>2012</td>\n",
       "    </tr>\n",
       "    <tr>\n",
       "      <th>285</th>\n",
       "      <td>1</td>\n",
       "      <td>151315</td>\n",
       "      <td>1</td>\n",
       "      <td>1</td>\n",
       "      <td>48</td>\n",
       "      <td>30</td>\n",
       "      <td>0</td>\n",
       "      <td>2012</td>\n",
       "    </tr>\n",
       "  </tbody>\n",
       "</table>\n",
       "</div>"
      ],
      "text/plain": [
       "     Dept    Size  Store  Type  Week  day  IsHoliday  year\n",
       "0       1  151315      1     1    44    2          0  2012\n",
       "71      1  151315      1     1    45    9          0  2012\n",
       "142     1  151315      1     1    46   16          0  2012\n",
       "213     1  151315      1     1    47   23          1  2012\n",
       "285     1  151315      1     1    48   30          0  2012"
      ]
     },
     "execution_count": 20,
     "metadata": {},
     "output_type": "execute_result"
    }
   ],
   "source": [
    "final_test_data.head()"
   ]
  },
  {
   "cell_type": "code",
   "execution_count": 21,
   "metadata": {},
   "outputs": [
    {
     "data": {
      "text/plain": [
       "RandomForestRegressor(max_depth=70, n_estimators=350, n_jobs=-1)"
      ]
     },
     "execution_count": 21,
     "metadata": {},
     "output_type": "execute_result"
    }
   ],
   "source": [
    "final_model = RandomForestRegressor(n_estimators=350, max_depth=70, n_jobs=-1)\n",
    "final_model.fit(final_train_data,y_train)"
   ]
  },
  {
   "cell_type": "code",
   "execution_count": 22,
   "metadata": {},
   "outputs": [
    {
     "data": {
      "text/plain": [
       "['final_model.pkl']"
      ]
     },
     "execution_count": 22,
     "metadata": {},
     "output_type": "execute_result"
    }
   ],
   "source": [
    "joblib.dump(final_model, 'final_model.pkl')"
   ]
  },
  {
   "cell_type": "code",
   "execution_count": 28,
   "metadata": {},
   "outputs": [],
   "source": [
    "prediction = final_model.predict(final_test_data)"
   ]
  },
  {
   "cell_type": "code",
   "execution_count": 29,
   "metadata": {},
   "outputs": [],
   "source": [
    "df['Weekly_Sales'] = list(prediction)"
   ]
  },
  {
   "cell_type": "code",
   "execution_count": 30,
   "metadata": {},
   "outputs": [
    {
     "data": {
      "text/html": [
       "<div>\n",
       "<style scoped>\n",
       "    .dataframe tbody tr th:only-of-type {\n",
       "        vertical-align: middle;\n",
       "    }\n",
       "\n",
       "    .dataframe tbody tr th {\n",
       "        vertical-align: top;\n",
       "    }\n",
       "\n",
       "    .dataframe thead th {\n",
       "        text-align: right;\n",
       "    }\n",
       "</style>\n",
       "<table border=\"1\" class=\"dataframe\">\n",
       "  <thead>\n",
       "    <tr style=\"text-align: right;\">\n",
       "      <th></th>\n",
       "      <th>Id</th>\n",
       "      <th>Weekly_Sales</th>\n",
       "    </tr>\n",
       "  </thead>\n",
       "  <tbody>\n",
       "    <tr>\n",
       "      <th>0</th>\n",
       "      <td>1_1_2012-11-02</td>\n",
       "      <td>35332.883343</td>\n",
       "    </tr>\n",
       "    <tr>\n",
       "      <th>1</th>\n",
       "      <td>1_1_2012-11-09</td>\n",
       "      <td>20056.102571</td>\n",
       "    </tr>\n",
       "    <tr>\n",
       "      <th>2</th>\n",
       "      <td>1_1_2012-11-16</td>\n",
       "      <td>19314.879429</td>\n",
       "    </tr>\n",
       "    <tr>\n",
       "      <th>3</th>\n",
       "      <td>1_1_2012-11-23</td>\n",
       "      <td>20508.560314</td>\n",
       "    </tr>\n",
       "    <tr>\n",
       "      <th>4</th>\n",
       "      <td>1_1_2012-11-30</td>\n",
       "      <td>27922.329714</td>\n",
       "    </tr>\n",
       "  </tbody>\n",
       "</table>\n",
       "</div>"
      ],
      "text/plain": [
       "               Id  Weekly_Sales\n",
       "0  1_1_2012-11-02  35332.883343\n",
       "1  1_1_2012-11-09  20056.102571\n",
       "2  1_1_2012-11-16  19314.879429\n",
       "3  1_1_2012-11-23  20508.560314\n",
       "4  1_1_2012-11-30  27922.329714"
      ]
     },
     "execution_count": 30,
     "metadata": {},
     "output_type": "execute_result"
    }
   ],
   "source": [
    "df.head()"
   ]
  },
  {
   "cell_type": "code",
   "execution_count": 31,
   "metadata": {},
   "outputs": [],
   "source": [
    "df.to_csv('Submission.csv', index=None)"
   ]
  },
  {
   "cell_type": "markdown",
   "metadata": {},
   "source": [
    "## Kaggle Score"
   ]
  },
  {
   "cell_type": "code",
   "execution_count": 1,
   "metadata": {},
   "outputs": [],
   "source": [
    "from PIL import Image"
   ]
  },
  {
   "cell_type": "code",
   "execution_count": 4,
   "metadata": {},
   "outputs": [
    {
     "data": {
      "image/png": "[encoded data removed]",
      "text/plain": [
       "<PIL.PngImagePlugin.PngImageFile image mode=RGBA size=1416x180 at 0x1872A5372E0>"
      ]
     },
     "execution_count": 4,
     "metadata": {},
     "output_type": "execute_result"
    }
   ],
   "source": [
    "# https://www.geeksforgeeks.org/working-images-python/#:~:text=try%3A-,img%C2%A0%20%3D%20Image.open(path),-except%20IOError%3A\n",
    "\n",
    "img  = Image.open('Kaggle Score.PNG')\n",
    "img"
   ]
  },
  {
   "cell_type": "markdown",
   "metadata": {},
   "source": [
    "## Deployment"
   ]
  },
  {
   "cell_type": "code",
   "execution_count": 1,
   "metadata": {},
   "outputs": [
    {
     "data": {
      "image/jpeg": "[encoded data removed]",
      "text/html": [
       "\n",
       "        <iframe\n",
       "            width=\"800\"\n",
       "            height=\"300\"\n",
       "            src=\"https://www.youtube.com/embed/e1twyn-sYgs\"\n",
       "            frameborder=\"0\"\n",
       "            allowfullscreen\n",
       "        ></iframe>\n",
       "        "
      ],
      "text/plain": [
       "<IPython.lib.display.YouTubeVideo at 0x1b7a1ac62e0>"
      ]
     },
     "execution_count": 1,
     "metadata": {},
     "output_type": "execute_result"
    }
   ],
   "source": [
    "from IPython.display import YouTubeVideo\n",
    "\n",
    "YouTubeVideo('e1twyn-sYgs', width=800, height=300)"
   ]
  },
  {
   "cell_type": "code",
   "execution_count": null,
   "metadata": {},
   "outputs": [],
   "source": []
  }
 ],
 "metadata": {
  "kernelspec": {
   "display_name": "Python 3",
   "language": "python",
   "name": "python3"
  },
  "language_info": {
   "codemirror_mode": {
    "name": "ipython",
    "version": 3
   },
   "file_extension": ".py",
   "mimetype": "text/x-python",
   "name": "python",
   "nbconvert_exporter": "python",
   "pygments_lexer": "ipython3",
   "version": "3.8.5"
  }
 },
 "nbformat": 4,
 "nbformat_minor": 4
}
